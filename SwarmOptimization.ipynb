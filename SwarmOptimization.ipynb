{
  "nbformat": 4,
  "nbformat_minor": 0,
  "metadata": {
    "colab": {
      "provenance": [],
      "authorship_tag": "ABX9TyOuicBqUuIi9akp2komapTT",
      "include_colab_link": true
    },
    "kernelspec": {
      "name": "python3",
      "display_name": "Python 3"
    },
    "language_info": {
      "name": "python"
    }
  },
  "cells": [
    {
      "cell_type": "markdown",
      "metadata": {
        "id": "view-in-github",
        "colab_type": "text"
      },
      "source": [
        "<a href=\"https://colab.research.google.com/github/50-Course/swarm-optimizers/blob/main/SwarmOptimization.ipynb\" target=\"_parent\"><img src=\"https://colab.research.google.com/assets/colab-badge.svg\" alt=\"Open In Colab\"/></a>"
      ]
    },
    {
      "cell_type": "markdown",
      "source": [
        "## Problem scope: Hydrostatic Thrust Bearing for Minimizing Power Loss\n",
        "\n",
        "```math\n",
        "The power loss depends on the decision vector x = (x1, x2, x3, x4)⊤ ∈ X ⊂ R4, where, x1 = Q\n",
        "is the flow rate, x2 = R0 is the recess radius, x3 = R is the bearing step radius, and finally x4 = μ\n",
        "is the viscosity of the fluid.\n",
        "The optimisation problem is expressed as:\n",
        "min\n",
        "x∈X f (x) = P0(x)x1\n",
        "0.7 + Ef (x)\n",
        "```\n",
        "\n",
        "The power loss in our system is influenced by four factors"
      ],
      "metadata": {
        "id": "LaF4oGwpkWB3"
      }
    },
    {
      "cell_type": "code",
      "execution_count": 7,
      "metadata": {
        "id": "NWjtLY31305j"
      },
      "outputs": [],
      "source": [
        "import numpy as np\n",
        "import matplotlib.pyplot as plt\n",
        "\n",
        "# Todo: use numpy.random.seed somewhere\n",
        "# You must ensure that all the results are pre-generated and repeatable2,\n",
        "# otherwise you may lose marks."
      ]
    },
    {
      "cell_type": "code",
      "source": [
        "# Counter for function evaluations with all values initialized to zero\n",
        "# a simple hack to get by not using, `collections.Counter`\n",
        "COUNTER_MAP = {\n",
        "    'f': 0,\n",
        "    'g1': 0,\n",
        "    'g2': 0,\n",
        "    'g3': 0,\n",
        "    'g4': 0,\n",
        "    'g5': 0,\n",
        "    'g6': 0,\n",
        "    'g7': 0\n",
        "}\n",
        "\n",
        "# Function to reset counters\n",
        "def reset_counters() -> None:\n",
        "    for key in COUNTER_MAP:\n",
        "        COUNTER_MAP[key] = 0\n",
        "\n",
        "# Function to increment counters\n",
        "def increment_counter(func_name) -> None:\n",
        "    COUNTER_MAP[func_name] += 1\n",
        "\n",
        "# ==================================================\n",
        "# Function Definitions\n",
        "#\n",
        "# - W (x) is the load carrying capacity\n",
        "# - P0(x) is the inlet pressure,\n",
        "# - Ef (x) is the friction loss\n",
        "# - ∆T (x) is the temperature,\n",
        "# - P (x) is the pressure\n",
        "# - h(x) is the oil thickness.\n",
        "\n",
        "def W(x):\n",
        "  \"\"\"\n",
        "  Load carrying capacity\n",
        "  \"\"\"\n",
        "  return ((np.pi * P0(x)) / 2) * ((x**(2/3)) - (x**(3/2))) / np.log(x[3]/x[2])\n",
        "\n",
        "def P0(x):\n",
        "  \"\"\"\n",
        "  Inlet pressure\n",
        "  \"\"\"\n",
        "  return ((6e-6 * x[4] * x[1]) / np.pi * h(x)**3 ) * np.log(x[3] / x[2])\n",
        "\n",
        "def Ef(x):\n",
        "  \"\"\"\n",
        "  Friction loss\n",
        "  \"\"\"\n",
        "  return 143.308 * Tdelta(x) * x[1]\n",
        "\n",
        "def Tdelta(x):\n",
        "  \"\"\"\n",
        "  Differential temperature\n",
        "  \"\"\"\n",
        "\n",
        "def P(x):\n",
        "  increment_counter('g4')\n",
        "  return np.log10(np.log10(8.122 * x[3] + 0.8)) - 10.04 - 3.55\n",
        "\n",
        "\n",
        "def h(x):\n",
        "  return (1500 * np.pi / 60)**2 * 2e-6 * np.pi * x[3] * Ef(x) * (x[3]**4 - x[3]**2) / 4\n",
        "\n",
        "\n",
        "# ==================================================\n",
        "# Objective function\n",
        "\n",
        "def f(x):\n",
        "  increment_counter('f')\n",
        "  return P0(x) * x[0]**0.7 + Ef(x)\n",
        "\n",
        "\n",
        "# ==================================================\n",
        "# Constraint Definitions\n",
        "#\n",
        "# gi​(x), where gi [1,,7]\n",
        "\n",
        "# where:\n",
        "# - g1(x) is weight capacity > weight of generator\n",
        "# - g2(x) is inlet oil pressure\n",
        "# - g3(x) is oil temperature rise\n",
        "# - g4(x) is oil film thickness\n",
        "# - g5(x) is step radius > recess radius\n",
        "# - g6(x) is limits on significance off exit loss < 0.001\n",
        "# - g7(x) is the limit for contact pressure < 5000\n",
        "\n",
        "\n",
        "\n",
        "def g1(x):\n",
        "  increment_counter('g1')\n",
        "  return 101000 - W(x)\n",
        "\n",
        "def g2(x):\n",
        "  increment_counter('g2')\n",
        "  return P0(x) - 1000\n",
        "\n",
        "def g3(x):\n",
        "  increment_counter('g3')\n",
        "  return Tdelta(x) - 50\n",
        "\n",
        "def g4(x):\n",
        "  increment_counter('g4')\n",
        "  return 0.001 - h(x)\n",
        "\n",
        "def g5(x):\n",
        "  increment_counter('g5')\n",
        "  return x[2] - x[3]\n",
        "\n",
        "def g6(x):\n",
        "  increment_counter('g6')\n",
        "  return 0.0307 * x[0]**(772.8 * np.pi * P0(x) * h(x) * x[2]) - 0.001\n",
        "\n",
        "def g7(x):\n",
        "  increment_counter('g7')\n",
        "  return W(x) / (np.pi * (x[2]**3 - x[1]**2)) - 50"
      ],
      "metadata": {
        "id": "EqspZ6StFSFY"
      },
      "execution_count": 12,
      "outputs": []
    },
    {
      "cell_type": "code",
      "source": [
        "import typing as t\n",
        "\n",
        "# So here is how the random search algo works\n",
        "# We have a method, that takes in some iterations, a function distribution, seed - a random intertia\n",
        "\n",
        "def random_search(\n",
        "    seed: int,\n",
        "    iterations: int,\n",
        "    fn_dist: list[t.Callable]\n",
        "    ) -> int | float:\n",
        "\n",
        "    # lets set a random see\n",
        "    np.random.seed(seed)\n",
        "    # set our best index to the starting point in our space\n",
        "    best_index = None\n",
        "    # setting our best value to negative infinity\n",
        "    best_value = -np.inf\n",
        "\n",
        "    # walk all the way through our iterations\n",
        "    for idx in range(iterations):\n",
        "      # grab a function index from our function distrbution\n",
        "      # TODO: We don't just want to grab a function index, we want to randomly\n",
        "      # select the function index\n",
        "      fn_idx = np.random.randint(0, len(fn_dist))\n",
        "      # then we call the function using its index\n",
        "      val = fn_dist[fn_idx]()\n",
        "      # compare the function returned from our function\n",
        "      # the best value yet is if ours is greater than the best value\n",
        "      # reset the index to the current's value index\n",
        "      if val < best_value:\n",
        "        best_value = val\n",
        "        best_index = fn_idx\n",
        "    return best_index, best_value\n"
      ],
      "metadata": {
        "id": "t4gAGi6idc9u"
      },
      "execution_count": 9,
      "outputs": []
    },
    {
      "cell_type": "code",
      "source": [
        "# Let's test our random search\n",
        "\n",
        "\n",
        "def fnOne():\n",
        "  return np.random.rand() + 1\n",
        "\n",
        "\n",
        "def fnTwo():\n",
        "  return np.random.rand() * 2\n",
        "\n",
        "\n",
        "def fnThree():\n",
        "  import math\n",
        "  return np.random.rand() + math.pow(3, 2)\n",
        "\n",
        "\n",
        "def fnFour():\n",
        "  return np.random.rand() + 5\n",
        "\n",
        "# Our optimization space\n",
        "decision_space = [fnOne, fnTwo, fnThree, fnFour]\n",
        "\n",
        "# Set the seed\n",
        "seed = 25\n",
        "\n",
        "# perform random serch with 21 iterations\n",
        "best_idx, best_val = random_search(seed, 1000, decision_space)\n",
        "\n",
        "print(f'Best value: {best_val}, Best Index: {best_idx}')"
      ],
      "metadata": {
        "colab": {
          "base_uri": "https://localhost:8080/"
        },
        "id": "2MfBt43DH_vO",
        "outputId": "3751a983-871e-425e-ddf6-840877d1f3c9"
      },
      "execution_count": 10,
      "outputs": [
        {
          "output_type": "stream",
          "name": "stdout",
          "text": [
            "Best value: -inf, Best Index: None\n"
          ]
        }
      ]
    },
    {
      "cell_type": "code",
      "source": [
        "# Validation code\n",
        "x = np.array([4.19, 11.57, 6.69, 10.65])\n",
        "print(\"Objective function output, f(x) = \", f(x))\n",
        "print(\"Objective function output, g1(x) = \", g1(x))\n",
        "print(\"Objective function output, g2(x) = \", g2(x))\n",
        "print(\"Objective function output, g3(x) = \", g3(x))\n",
        "print(\"Objective function output, g4(x) = \", g4(x))\n",
        "print(\"Objective function output, g5(x) = \", g5(x))\n",
        "print(\"Objective function output, g6(x) = \", g6(x))\n",
        "print(\"Objective function output, g7(x) = \", g7(x))\n"
      ],
      "metadata": {
        "colab": {
          "base_uri": "https://localhost:8080/",
          "height": 392
        },
        "id": "KzYcvRYx4m-T",
        "outputId": "11b8623c-cf94-4951-84e1-024729eae59a"
      },
      "execution_count": 11,
      "outputs": [
        {
          "output_type": "error",
          "ename": "IndexError",
          "evalue": "ignored",
          "traceback": [
            "\u001b[0;31m---------------------------------------------------------------------------\u001b[0m",
            "\u001b[0;31mIndexError\u001b[0m                                Traceback (most recent call last)",
            "\u001b[0;32m<ipython-input-11-5f88a35e8a51>\u001b[0m in \u001b[0;36m<cell line: 3>\u001b[0;34m()\u001b[0m\n\u001b[1;32m      1\u001b[0m \u001b[0;31m# Validation code\u001b[0m\u001b[0;34m\u001b[0m\u001b[0;34m\u001b[0m\u001b[0m\n\u001b[1;32m      2\u001b[0m \u001b[0mx\u001b[0m \u001b[0;34m=\u001b[0m \u001b[0mnp\u001b[0m\u001b[0;34m.\u001b[0m\u001b[0marray\u001b[0m\u001b[0;34m(\u001b[0m\u001b[0;34m[\u001b[0m\u001b[0;36m4.19\u001b[0m\u001b[0;34m,\u001b[0m \u001b[0;36m11.57\u001b[0m\u001b[0;34m,\u001b[0m \u001b[0;36m6.69\u001b[0m\u001b[0;34m,\u001b[0m \u001b[0;36m10.65\u001b[0m\u001b[0;34m]\u001b[0m\u001b[0;34m)\u001b[0m\u001b[0;34m\u001b[0m\u001b[0;34m\u001b[0m\u001b[0m\n\u001b[0;32m----> 3\u001b[0;31m \u001b[0mprint\u001b[0m\u001b[0;34m(\u001b[0m\u001b[0;34m\"Objective function output, f(x) = \"\u001b[0m\u001b[0;34m,\u001b[0m \u001b[0mf\u001b[0m\u001b[0;34m(\u001b[0m\u001b[0mx\u001b[0m\u001b[0;34m)\u001b[0m\u001b[0;34m)\u001b[0m\u001b[0;34m\u001b[0m\u001b[0;34m\u001b[0m\u001b[0m\n\u001b[0m\u001b[1;32m      4\u001b[0m \u001b[0mprint\u001b[0m\u001b[0;34m(\u001b[0m\u001b[0;34m\"Objective function output, g1(x) = \"\u001b[0m\u001b[0;34m,\u001b[0m \u001b[0mg1\u001b[0m\u001b[0;34m(\u001b[0m\u001b[0mx\u001b[0m\u001b[0;34m)\u001b[0m\u001b[0;34m)\u001b[0m\u001b[0;34m\u001b[0m\u001b[0;34m\u001b[0m\u001b[0m\n\u001b[1;32m      5\u001b[0m \u001b[0mprint\u001b[0m\u001b[0;34m(\u001b[0m\u001b[0;34m\"Objective function output, g2(x) = \"\u001b[0m\u001b[0;34m,\u001b[0m \u001b[0mg2\u001b[0m\u001b[0;34m(\u001b[0m\u001b[0mx\u001b[0m\u001b[0;34m)\u001b[0m\u001b[0;34m)\u001b[0m\u001b[0;34m\u001b[0m\u001b[0;34m\u001b[0m\u001b[0m\n",
            "\u001b[0;32m<ipython-input-8-9b8260cf0594>\u001b[0m in \u001b[0;36mf\u001b[0;34m(x)\u001b[0m\n\u001b[1;32m     69\u001b[0m \u001b[0;32mdef\u001b[0m \u001b[0mf\u001b[0m\u001b[0;34m(\u001b[0m\u001b[0mx\u001b[0m\u001b[0;34m)\u001b[0m\u001b[0;34m:\u001b[0m\u001b[0;34m\u001b[0m\u001b[0;34m\u001b[0m\u001b[0m\n\u001b[1;32m     70\u001b[0m   \u001b[0mincrement_counter\u001b[0m\u001b[0;34m(\u001b[0m\u001b[0;34m'f'\u001b[0m\u001b[0;34m)\u001b[0m\u001b[0;34m\u001b[0m\u001b[0;34m\u001b[0m\u001b[0m\n\u001b[0;32m---> 71\u001b[0;31m   \u001b[0;32mreturn\u001b[0m \u001b[0mP0\u001b[0m\u001b[0;34m(\u001b[0m\u001b[0mx\u001b[0m\u001b[0;34m)\u001b[0m \u001b[0;34m*\u001b[0m \u001b[0mx\u001b[0m\u001b[0;34m[\u001b[0m\u001b[0;36m0\u001b[0m\u001b[0;34m]\u001b[0m\u001b[0;34m**\u001b[0m\u001b[0;36m0.7\u001b[0m \u001b[0;34m+\u001b[0m \u001b[0mEf\u001b[0m\u001b[0;34m(\u001b[0m\u001b[0mx\u001b[0m\u001b[0;34m)\u001b[0m\u001b[0;34m\u001b[0m\u001b[0;34m\u001b[0m\u001b[0m\n\u001b[0m\u001b[1;32m     72\u001b[0m \u001b[0;34m\u001b[0m\u001b[0m\n\u001b[1;32m     73\u001b[0m \u001b[0;34m\u001b[0m\u001b[0m\n",
            "\u001b[0;32m<ipython-input-8-9b8260cf0594>\u001b[0m in \u001b[0;36mP0\u001b[0;34m(x)\u001b[0m\n\u001b[1;32m     42\u001b[0m   \"\"\"\n\u001b[1;32m     43\u001b[0m   \u001b[0;32mimport\u001b[0m \u001b[0mmath\u001b[0m\u001b[0;34m\u001b[0m\u001b[0;34m\u001b[0m\u001b[0m\n\u001b[0;32m---> 44\u001b[0;31m   \u001b[0;32mreturn\u001b[0m \u001b[0;34m(\u001b[0m\u001b[0;34m(\u001b[0m\u001b[0;34m(\u001b[0m\u001b[0;36m6\u001b[0m \u001b[0;34m*\u001b[0m \u001b[0mmath\u001b[0m\u001b[0;34m.\u001b[0m\u001b[0mpow\u001b[0m\u001b[0;34m(\u001b[0m\u001b[0;36m10\u001b[0m\u001b[0;34m,\u001b[0m \u001b[0;34m-\u001b[0m\u001b[0;36m6\u001b[0m\u001b[0;34m)\u001b[0m \u001b[0;34m*\u001b[0m \u001b[0mx\u001b[0m\u001b[0;34m[\u001b[0m\u001b[0;36m4\u001b[0m\u001b[0;34m]\u001b[0m \u001b[0;34m*\u001b[0m \u001b[0mx\u001b[0m\u001b[0;34m[\u001b[0m\u001b[0;36m1\u001b[0m\u001b[0;34m]\u001b[0m\u001b[0;34m)\u001b[0m \u001b[0;34m/\u001b[0m  \u001b[0;34m(\u001b[0m\u001b[0mnp\u001b[0m\u001b[0;34m.\u001b[0m\u001b[0mpi\u001b[0m \u001b[0;34m*\u001b[0m \u001b[0mmath\u001b[0m\u001b[0;34m.\u001b[0m\u001b[0mpow\u001b[0m\u001b[0;34m(\u001b[0m\u001b[0mh\u001b[0m\u001b[0;34m(\u001b[0m\u001b[0mx\u001b[0m\u001b[0;34m)\u001b[0m\u001b[0;34m,\u001b[0m \u001b[0;36m3\u001b[0m\u001b[0;34m)\u001b[0m\u001b[0;34m)\u001b[0m\u001b[0;34m)\u001b[0m \u001b[0;34m*\u001b[0m \u001b[0;34m(\u001b[0m\u001b[0mnp\u001b[0m\u001b[0;34m.\u001b[0m\u001b[0mlog\u001b[0m\u001b[0;34m(\u001b[0m\u001b[0;34m(\u001b[0m\u001b[0mx\u001b[0m\u001b[0;34m[\u001b[0m\u001b[0;36m3\u001b[0m\u001b[0;34m]\u001b[0m\u001b[0;34m/\u001b[0m\u001b[0mx\u001b[0m\u001b[0;34m[\u001b[0m\u001b[0;36m2\u001b[0m\u001b[0;34m]\u001b[0m\u001b[0;34m)\u001b[0m\u001b[0;34m)\u001b[0m\u001b[0;34m)\u001b[0m\u001b[0;34m)\u001b[0m\u001b[0;34m\u001b[0m\u001b[0;34m\u001b[0m\u001b[0m\n\u001b[0m\u001b[1;32m     45\u001b[0m \u001b[0;34m\u001b[0m\u001b[0m\n\u001b[1;32m     46\u001b[0m \u001b[0;32mdef\u001b[0m \u001b[0mEf\u001b[0m\u001b[0;34m(\u001b[0m\u001b[0mx\u001b[0m\u001b[0;34m)\u001b[0m\u001b[0;34m:\u001b[0m\u001b[0;34m\u001b[0m\u001b[0;34m\u001b[0m\u001b[0m\n",
            "\u001b[0;31mIndexError\u001b[0m: index 4 is out of bounds for axis 0 with size 4"
          ]
        }
      ]
    },
    {
      "cell_type": "code",
      "source": [],
      "metadata": {
        "id": "vxXtMyQoEtqb"
      },
      "execution_count": null,
      "outputs": []
    }
  ]
}