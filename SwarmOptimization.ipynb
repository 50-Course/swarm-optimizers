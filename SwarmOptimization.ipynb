{
  "nbformat": 4,
  "nbformat_minor": 0,
  "metadata": {
    "colab": {
      "provenance": [],
      "authorship_tag": "ABX9TyP+IUYiPSG/pL29lCnuCYFO",
      "include_colab_link": true
    },
    "kernelspec": {
      "name": "python3",
      "display_name": "Python 3"
    },
    "language_info": {
      "name": "python"
    }
  },
  "cells": [
    {
      "cell_type": "markdown",
      "metadata": {
        "id": "view-in-github",
        "colab_type": "text"
      },
      "source": [
        "<a href=\"https://colab.research.google.com/github/50-Course/swarm-optimizers/blob/main/SwarmOptimization.ipynb\" target=\"_parent\"><img src=\"https://colab.research.google.com/assets/colab-badge.svg\" alt=\"Open In Colab\"/></a>"
      ]
    },
    {
      "cell_type": "markdown",
      "source": [
        "## Problem scope: Hydrostatic Thrust Bearing for Minimizing Power Loss\n",
        "\n",
        "```math\n",
        "The power loss depends on the decision vector x = (x1, x2, x3, x4)⊤ ∈ X ⊂ R4, where, x1 = Q\n",
        "is the flow rate, x2 = R0 is the recess radius, x3 = R is the bearing step radius, and finally x4 = μ\n",
        "is the viscosity of the fluid.\n",
        "The optimisation problem is expressed as:\n",
        "min\n",
        "x∈X f (x) = P0(x)x1\n",
        "0.7 + Ef (x)\n",
        "```\n",
        "\n",
        "The power loss in our system is influenced by four factors"
      ],
      "metadata": {
        "id": "LaF4oGwpkWB3"
      }
    },
    {
      "cell_type": "code",
      "execution_count": 1,
      "metadata": {
        "id": "NWjtLY31305j"
      },
      "outputs": [],
      "source": [
        "import numpy as np\n",
        "import matplotlib.pyplot as plt\n",
        "\n",
        "from typing import Callable, Any\n",
        "\n",
        "# Todo: use numpy.random.seed somewhere\n",
        "# You must ensure that all the results are pre-generated and repeatable2,\n",
        "# otherwise you may lose marks.\n",
        "\n"
      ]
    },
    {
      "cell_type": "code",
      "source": [
        "# Counter for function evaluations with all values initialized to zero\n",
        "# a simple hack to get by not using, `collections.Counter`\n",
        "COUNTER_MAP = {\n",
        "    'f': 0,\n",
        "    'g1': 0,\n",
        "    'g2': 0,\n",
        "    'g3': 0,\n",
        "    'g4': 0,\n",
        "    'g5': 0,\n",
        "    'g6': 0,\n",
        "    'g7': 0\n",
        "}\n",
        "\n",
        "# Function to reset counters\n",
        "def reset_counters() -> None:\n",
        "    for key in COUNTER_MAP:\n",
        "        COUNTER_MAP[key] = 0\n",
        "\n",
        "# Function to increment counters\n",
        "def increment_counter(func_name: Callable) -> None:\n",
        "    COUNTER_MAP[func_name] += 1\n",
        "\n",
        "# ==================================================\n",
        "# Function Definitions\n",
        "#\n",
        "# W (x) is the load carrying capacity, P0(x) is the inlet pressure,\n",
        "# Ef (x) is the friction loss, ∆T (x) is the temperature,\n",
        "# P (x) is the pressure, and h(x) is the oil thickness.\n",
        "\n",
        "def W():\n",
        "  ...\n",
        "\n",
        "def P0():\n",
        "  ...\n",
        "\n",
        "def Ef():\n",
        "  ...\n",
        "\n",
        "def Tdelta():\n",
        "  ...\n",
        "\n",
        "def P():\n",
        "  ...\n",
        "\n",
        "def h():\n",
        "  ...\n",
        "\n",
        "\n",
        "# ==================================================\n",
        "# Constraint Definitions\n",
        "#\n",
        "# gi​(x), where gi [1,,7]\n",
        "\n",
        "def g1():\n",
        "  ...\n",
        "\n",
        "def g2():\n",
        "  ...\n",
        "\n",
        "def g3():\n",
        "  ...\n",
        "\n",
        "def g4():\n",
        "  ...\n",
        "\n",
        "def g5():\n",
        "  ...\n",
        "\n",
        "def g6():\n",
        "  ...\n",
        "\n",
        "def g7():\n",
        "  ...\n",
        "\n",
        "# ==================================================\n",
        "# Objective Definitions\n",
        "\n",
        "def f(x):\n",
        "  ...\n"
      ],
      "metadata": {
        "id": "EqspZ6StFSFY"
      },
      "execution_count": 19,
      "outputs": []
    },
    {
      "cell_type": "code",
      "source": [
        "def random_search(seed: int | np.float64) -> np.float64:\n",
        "  ..."
      ],
      "metadata": {
        "id": "t4gAGi6idc9u"
      },
      "execution_count": null,
      "outputs": []
    },
    {
      "cell_type": "code",
      "source": [
        "# Validation code\n",
        "x = np.array([4.19, 11.57, 6.69, 10.65])\n",
        "print(\"Objective function output, f(x) = \", f(x))\n",
        "print(\"Objective function output, g1(x) = \", g1(x))\n",
        "print(\"Objective function output, g2(x) = \", g2(x))\n",
        "print(\"Objective function output, g3(x) = \", g3(x))\n",
        "print(\"Objective function output, g4(x) = \", g4(x))\n",
        "print(\"Objective function output, g5(x) = \", g5(x))\n",
        "print(\"Objective function output, g6(x) = \", g6(x))\n",
        "print(\"Objective function output, g7(x) = \", g7(x))\n"
      ],
      "metadata": {
        "colab": {
          "base_uri": "https://localhost:8080/",
          "height": 247
        },
        "id": "KzYcvRYx4m-T",
        "outputId": "928c3735-a418-4a23-a9fb-2368f6ea04b2"
      },
      "execution_count": null,
      "outputs": [
        {
          "output_type": "error",
          "ename": "NameError",
          "evalue": "ignored",
          "traceback": [
            "\u001b[0;31m---------------------------------------------------------------------------\u001b[0m",
            "\u001b[0;31mNameError\u001b[0m                                 Traceback (most recent call last)",
            "\u001b[0;32m<ipython-input-5-5f88a35e8a51>\u001b[0m in \u001b[0;36m<cell line: 3>\u001b[0;34m()\u001b[0m\n\u001b[1;32m      1\u001b[0m \u001b[0;31m# Validation code\u001b[0m\u001b[0;34m\u001b[0m\u001b[0;34m\u001b[0m\u001b[0m\n\u001b[1;32m      2\u001b[0m \u001b[0mx\u001b[0m \u001b[0;34m=\u001b[0m \u001b[0mnp\u001b[0m\u001b[0;34m.\u001b[0m\u001b[0marray\u001b[0m\u001b[0;34m(\u001b[0m\u001b[0;34m[\u001b[0m\u001b[0;36m4.19\u001b[0m\u001b[0;34m,\u001b[0m \u001b[0;36m11.57\u001b[0m\u001b[0;34m,\u001b[0m \u001b[0;36m6.69\u001b[0m\u001b[0;34m,\u001b[0m \u001b[0;36m10.65\u001b[0m\u001b[0;34m]\u001b[0m\u001b[0;34m)\u001b[0m\u001b[0;34m\u001b[0m\u001b[0;34m\u001b[0m\u001b[0m\n\u001b[0;32m----> 3\u001b[0;31m \u001b[0mprint\u001b[0m\u001b[0;34m(\u001b[0m\u001b[0;34m\"Objective function output, f(x) = \"\u001b[0m\u001b[0;34m,\u001b[0m \u001b[0mf\u001b[0m\u001b[0;34m(\u001b[0m\u001b[0mx\u001b[0m\u001b[0;34m)\u001b[0m\u001b[0;34m)\u001b[0m\u001b[0;34m\u001b[0m\u001b[0;34m\u001b[0m\u001b[0m\n\u001b[0m\u001b[1;32m      4\u001b[0m \u001b[0mprint\u001b[0m\u001b[0;34m(\u001b[0m\u001b[0;34m\"Objective function output, g1(x) = \"\u001b[0m\u001b[0;34m,\u001b[0m \u001b[0mg1\u001b[0m\u001b[0;34m(\u001b[0m\u001b[0mx\u001b[0m\u001b[0;34m)\u001b[0m\u001b[0;34m)\u001b[0m\u001b[0;34m\u001b[0m\u001b[0;34m\u001b[0m\u001b[0m\n\u001b[1;32m      5\u001b[0m \u001b[0mprint\u001b[0m\u001b[0;34m(\u001b[0m\u001b[0;34m\"Objective function output, g2(x) = \"\u001b[0m\u001b[0;34m,\u001b[0m \u001b[0mg2\u001b[0m\u001b[0;34m(\u001b[0m\u001b[0mx\u001b[0m\u001b[0;34m)\u001b[0m\u001b[0;34m)\u001b[0m\u001b[0;34m\u001b[0m\u001b[0;34m\u001b[0m\u001b[0m\n",
            "\u001b[0;31mNameError\u001b[0m: name 'f' is not defined"
          ]
        }
      ]
    }
  ]
}