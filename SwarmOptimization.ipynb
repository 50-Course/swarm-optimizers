{
  "nbformat": 4,
  "nbformat_minor": 0,
  "metadata": {
    "colab": {
      "provenance": [],
      "authorship_tag": "ABX9TyO0mpfektUv0Kptu5glyqO7",
      "include_colab_link": true
    },
    "kernelspec": {
      "name": "python3",
      "display_name": "Python 3"
    },
    "language_info": {
      "name": "python"
    }
  },
  "cells": [
    {
      "cell_type": "markdown",
      "metadata": {
        "id": "view-in-github",
        "colab_type": "text"
      },
      "source": [
        "<a href=\"https://colab.research.google.com/github/50-Course/swarm-optimizers/blob/main/SwarmOptimization.ipynb\" target=\"_parent\"><img src=\"https://colab.research.google.com/assets/colab-badge.svg\" alt=\"Open In Colab\"/></a>"
      ]
    },
    {
      "cell_type": "markdown",
      "source": [
        "## Problem scope: Hydrostatic Thrust Bearing for Minimizing Power Loss\n",
        "\n",
        "```math\n",
        "The power loss depends on the decision vector x = (x1, x2, x3, x4)⊤ ∈ X ⊂ R4, where, x1 = Q\n",
        "is the flow rate, x2 = R0 is the recess radius, x3 = R is the bearing step radius, and finally x4 = μ\n",
        "is the viscosity of the fluid.\n",
        "The optimisation problem is expressed as:\n",
        "min\n",
        "x∈X f (x) = P0(x)x1\n",
        "0.7 + Ef (x)\n",
        "```\n",
        "\n",
        "The power loss in our system is influenced by four factors"
      ],
      "metadata": {
        "id": "LaF4oGwpkWB3"
      }
    },
    {
      "cell_type": "code",
      "execution_count": 21,
      "metadata": {
        "id": "NWjtLY31305j"
      },
      "outputs": [],
      "source": [
        "import numpy as np\n",
        "import matplotlib.pyplot as plt\n",
        "\n",
        "# Todo: use numpy.random.seed somewhere\n",
        "# You must ensure that all the results are pre-generated and repeatable2,\n",
        "# otherwise you may lose marks."
      ]
    },
    {
      "cell_type": "code",
      "source": [
        "# Counter for function evaluations with all values initialized to zero\n",
        "# a simple hack to get by not using, `collections.Counter`\n",
        "COUNTER_MAP = {\n",
        "    'f': 0,\n",
        "    'g1': 0,\n",
        "    'g2': 0,\n",
        "    'g3': 0,\n",
        "    'g4': 0,\n",
        "    'g5': 0,\n",
        "    'g6': 0,\n",
        "    'g7': 0\n",
        "}\n",
        "\n",
        "def call_action(fn):\n",
        "  @functools.wraps(fn)\n",
        "  def trigger(**kwargs):\n",
        "    if fn.__call__():\n",
        "      # increment the counter\n",
        "      COUNTER_MAP[fn] +=1\n",
        "    return fn(**kwargs)\n",
        "  return trigger\n",
        "\n",
        "# Function to reset counters\n",
        "def reset_counters() -> None:\n",
        "    for key in COUNTER_MAP:\n",
        "        COUNTER_MAP[key] = 0\n",
        "\n",
        "# Function to increment counters\n",
        "def increment_counter(func_name) -> None:\n",
        "    COUNTER_MAP[func_name] += 1\n",
        "\n",
        "# ==================================================\n",
        "# Function Definitions\n",
        "#\n",
        "# - W (x) is the load carrying capacity\n",
        "# - P0(x) is the inlet pressure,\n",
        "# - Ef (x) is the friction loss\n",
        "# - ∆T (x) is the temperature,\n",
        "# - P (x) is the pressure\n",
        "# - h(x) is the oil thickness.\n",
        "\n",
        "def W(value):\n",
        "  ...\n",
        "\n",
        "def P0(value):\n",
        "  ...\n",
        "\n",
        "def Ef(value):\n",
        "  ...\n",
        "\n",
        "def Tdelta(value):\n",
        "  ...\n",
        "\n",
        "def P(value):\n",
        "  increment_counter('g4')\n",
        "  return np.log10(np.log10(8.122 * x[3] + 0.8)) - 10.04 - 3.55\n",
        "\n",
        "\n",
        "def h(value):\n",
        "  ...\n",
        "\n",
        "\n",
        "def f(x):\n",
        "  increment_counter('f')\n",
        "  return P0(value=x) * x[0]**0.7 + Ef(value=x)\n",
        "\n",
        "\n",
        "# ==================================================\n",
        "# Constraint Definitions\n",
        "#\n",
        "# gi​(x), where gi [1,,7]\n",
        "\n",
        "# where:\n",
        "# - g1(x) is weight capacity > weight of generator\n",
        "# - g2(x) is inlet oil pressure\n",
        "# - g3(x) is oil temperature rise\n",
        "# - g4(x) is oil film thickness\n",
        "# - g5(x) is step radius > recess radius\n",
        "# - g6(x) is limits on significance off exit loss < 0.001\n",
        "# - g7(x) is the limit for contact pressure < 5000\n",
        "\n",
        "\n",
        "\n",
        "def g1(x):\n",
        "  return 101000 - W(x) <= 0\n",
        "\n",
        "def g2(x):\n",
        "  return P0(x) - 1000 <= 0\n",
        "\n",
        "def g3(x):\n",
        "  return Tdelta(x) - 50 <= 0\n",
        "\n",
        "def g4(x):\n",
        "  return 0.001 - h(x) <= 0\n",
        "\n",
        "def g5(x):\n",
        "  return x[2] - x[3] <= 0\n",
        "\n",
        "def g6(x):\n",
        "  ...\n",
        "\n",
        "def g7(x):\n",
        "  ...\n"
      ],
      "metadata": {
        "id": "EqspZ6StFSFY"
      },
      "execution_count": 28,
      "outputs": []
    },
    {
      "cell_type": "code",
      "source": [
        "def random_search(seed):\n",
        "  ..."
      ],
      "metadata": {
        "id": "t4gAGi6idc9u"
      },
      "execution_count": null,
      "outputs": []
    },
    {
      "cell_type": "code",
      "source": [
        "# Validation code\n",
        "x = np.array([4.19, 11.57, 6.69, 10.65])\n",
        "print(\"Objective function output, f(x) = \", f(x))\n",
        "print(\"Objective function output, g1(x) = \", g1(x))\n",
        "print(\"Objective function output, g2(x) = \", g2(x))\n",
        "print(\"Objective function output, g3(x) = \", g3(x))\n",
        "print(\"Objective function output, g4(x) = \", g4(x))\n",
        "print(\"Objective function output, g5(x) = \", g5(x))\n",
        "print(\"Objective function output, g6(x) = \", g6(x))\n",
        "print(\"Objective function output, g7(x) = \", g7(x))\n"
      ],
      "metadata": {
        "colab": {
          "base_uri": "https://localhost:8080/",
          "height": 368
        },
        "id": "KzYcvRYx4m-T",
        "outputId": "802493f1-fc78-43a4-fc88-e1276eb1b248"
      },
      "execution_count": 29,
      "outputs": [
        {
          "output_type": "error",
          "ename": "TypeError",
          "evalue": "ignored",
          "traceback": [
            "\u001b[0;31m---------------------------------------------------------------------------\u001b[0m",
            "\u001b[0;31mTypeError\u001b[0m                                 Traceback (most recent call last)",
            "\u001b[0;32m<ipython-input-29-5f88a35e8a51>\u001b[0m in \u001b[0;36m<cell line: 3>\u001b[0;34m()\u001b[0m\n\u001b[1;32m      1\u001b[0m \u001b[0;31m# Validation code\u001b[0m\u001b[0;34m\u001b[0m\u001b[0;34m\u001b[0m\u001b[0m\n\u001b[1;32m      2\u001b[0m \u001b[0mx\u001b[0m \u001b[0;34m=\u001b[0m \u001b[0mnp\u001b[0m\u001b[0;34m.\u001b[0m\u001b[0marray\u001b[0m\u001b[0;34m(\u001b[0m\u001b[0;34m[\u001b[0m\u001b[0;36m4.19\u001b[0m\u001b[0;34m,\u001b[0m \u001b[0;36m11.57\u001b[0m\u001b[0;34m,\u001b[0m \u001b[0;36m6.69\u001b[0m\u001b[0;34m,\u001b[0m \u001b[0;36m10.65\u001b[0m\u001b[0;34m]\u001b[0m\u001b[0;34m)\u001b[0m\u001b[0;34m\u001b[0m\u001b[0;34m\u001b[0m\u001b[0m\n\u001b[0;32m----> 3\u001b[0;31m \u001b[0mprint\u001b[0m\u001b[0;34m(\u001b[0m\u001b[0;34m\"Objective function output, f(x) = \"\u001b[0m\u001b[0;34m,\u001b[0m \u001b[0mf\u001b[0m\u001b[0;34m(\u001b[0m\u001b[0mx\u001b[0m\u001b[0;34m)\u001b[0m\u001b[0;34m)\u001b[0m\u001b[0;34m\u001b[0m\u001b[0;34m\u001b[0m\u001b[0m\n\u001b[0m\u001b[1;32m      4\u001b[0m \u001b[0mprint\u001b[0m\u001b[0;34m(\u001b[0m\u001b[0;34m\"Objective function output, g1(x) = \"\u001b[0m\u001b[0;34m,\u001b[0m \u001b[0mg1\u001b[0m\u001b[0;34m(\u001b[0m\u001b[0mx\u001b[0m\u001b[0;34m)\u001b[0m\u001b[0;34m)\u001b[0m\u001b[0;34m\u001b[0m\u001b[0;34m\u001b[0m\u001b[0m\n\u001b[1;32m      5\u001b[0m \u001b[0mprint\u001b[0m\u001b[0;34m(\u001b[0m\u001b[0;34m\"Objective function output, g2(x) = \"\u001b[0m\u001b[0;34m,\u001b[0m \u001b[0mg2\u001b[0m\u001b[0;34m(\u001b[0m\u001b[0mx\u001b[0m\u001b[0;34m)\u001b[0m\u001b[0;34m)\u001b[0m\u001b[0;34m\u001b[0m\u001b[0;34m\u001b[0m\u001b[0m\n",
            "\u001b[0;32m<ipython-input-28-0760a5a86d0c>\u001b[0m in \u001b[0;36mf\u001b[0;34m(x)\u001b[0m\n\u001b[1;32m     63\u001b[0m \u001b[0;32mdef\u001b[0m \u001b[0mf\u001b[0m\u001b[0;34m(\u001b[0m\u001b[0mx\u001b[0m\u001b[0;34m)\u001b[0m\u001b[0;34m:\u001b[0m\u001b[0;34m\u001b[0m\u001b[0;34m\u001b[0m\u001b[0m\n\u001b[1;32m     64\u001b[0m   \u001b[0mincrement_counter\u001b[0m\u001b[0;34m(\u001b[0m\u001b[0;34m'f'\u001b[0m\u001b[0;34m)\u001b[0m\u001b[0;34m\u001b[0m\u001b[0;34m\u001b[0m\u001b[0m\n\u001b[0;32m---> 65\u001b[0;31m   \u001b[0;32mreturn\u001b[0m \u001b[0mP0\u001b[0m\u001b[0;34m(\u001b[0m\u001b[0mvalue\u001b[0m\u001b[0;34m=\u001b[0m\u001b[0mx\u001b[0m\u001b[0;34m)\u001b[0m \u001b[0;34m*\u001b[0m \u001b[0mx\u001b[0m\u001b[0;34m[\u001b[0m\u001b[0;36m0\u001b[0m\u001b[0;34m]\u001b[0m\u001b[0;34m**\u001b[0m\u001b[0;36m0.7\u001b[0m \u001b[0;34m+\u001b[0m \u001b[0mEf\u001b[0m\u001b[0;34m(\u001b[0m\u001b[0mvalue\u001b[0m\u001b[0;34m=\u001b[0m\u001b[0mx\u001b[0m\u001b[0;34m)\u001b[0m\u001b[0;34m\u001b[0m\u001b[0;34m\u001b[0m\u001b[0m\n\u001b[0m\u001b[1;32m     66\u001b[0m \u001b[0;34m\u001b[0m\u001b[0m\n\u001b[1;32m     67\u001b[0m \u001b[0;34m\u001b[0m\u001b[0m\n",
            "\u001b[0;31mTypeError\u001b[0m: unsupported operand type(s) for *: 'NoneType' and 'float'"
          ]
        }
      ]
    }
  ]
}