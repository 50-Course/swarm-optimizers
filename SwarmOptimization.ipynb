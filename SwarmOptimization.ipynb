{
  "cells": [
    {
      "cell_type": "markdown",
      "metadata": {
        "id": "view-in-github",
        "colab_type": "text"
      },
      "source": [
        "<a href=\"https://colab.research.google.com/github/50-Course/swarm-optimizers/blob/main/SwarmOptimization.ipynb\" target=\"_parent\"><img src=\"https://colab.research.google.com/assets/colab-badge.svg\" alt=\"Open In Colab\"/></a>"
      ]
    },
    {
      "cell_type": "markdown",
      "source": [
        "\n",
        "**Hydrostatic Thrust Bearing Design for Minimum Power Loss**"
      ],
      "metadata": {
        "id": "oOA2OkC2LsDx"
      }
    },
    {
      "cell_type": "code",
      "execution_count": 5,
      "metadata": {
        "id": "JNsCkwwgVZdv"
      },
      "outputs": [],
      "source": [
        "# DEPENDENCIES\n",
        "import numpy as np\n",
        "import scipy\n",
        "import matplotlib.pyplot as plt\n",
        "\n",
        "from fractions import Fraction\n",
        "import math"
      ]
    },
    {
      "cell_type": "code",
      "source": [
        "# Utilities functions that just help me debug, right\n",
        "\n",
        "\n",
        "# Takes in a constraint function and let's me inspect its value\n",
        "def print_constraint_values(constraint_function):\n",
        "    def wrapper(x):\n",
        "        value = constraint_function(x)\n",
        "        print(f\"{constraint_function.__name__}:\", value)\n",
        "        return value\n",
        "    return wrapper\n",
        "\n",
        "# Evaluate function calls\n",
        "def count_calls(counter_map):\n",
        "  def decorator(func):\n",
        "      def wrapper(*args, **kwargs):\n",
        "          # Get the name of the decorated function\n",
        "          func_name = func.__name__\n",
        "\n",
        "          # Increment the counter for the function\n",
        "          counter_map[func_name] += 1\n",
        "\n",
        "          # Call the original function\n",
        "          result = func(*args, **kwargs)\n",
        "\n",
        "          return result\n",
        "\n",
        "      return wrapper\n",
        "\n",
        "  return decorator"
      ],
      "metadata": {
        "id": "JQioNPknC2RW"
      },
      "execution_count": 6,
      "outputs": []
    },
    {
      "cell_type": "code",
      "execution_count": 7,
      "metadata": {
        "id": "9Q3ubMpOVdK9"
      },
      "outputs": [],
      "source": [
        "# FUNCTION IMPLEMENTATIONS\n",
        "\n",
        "# Global counter\n",
        "FN_COUNTER_MAP = {\n",
        "  'f': 0,\n",
        "  'g1': 0,\n",
        "  'g2': 0,\n",
        "  'g3': 0,\n",
        "  'g4': 0,\n",
        "  'g5': 0,\n",
        "  'g6': 0,\n",
        "  'g7': 0\n",
        "}\n",
        "\n",
        "\n",
        "\n",
        "def P(x):\n",
        "  return (np.log10(np.log10(8.122 * x[3] + 0.8)) - 10.04) / -3.55\n",
        "\n",
        "\n",
        "def W(x):\n",
        "  \"\"\"Calculates the load carrying capacity.\n",
        "\n",
        "  Args:\n",
        "    decision vector x=(Q,Ro,Rs,μ), where x==[x0,x1,x2,x3],:\n",
        "\n",
        "      Q; is the flow rate\n",
        "      Ro: is the recess radius\n",
        "      Rs: is the bearing step radius\n",
        "      μ: is the viscosity of the fluid\n",
        "\n",
        "\n",
        "\n",
        "  Returns:\n",
        "    The load carrying capacity.\n",
        "  \"\"\"\n",
        "\n",
        "  return (np.pi * P0(x) / 2) * (x * (2/3) - x * (2/2) / np.log(x[2] / x[1]))\n",
        "\n",
        "\n",
        "def P0(x):\n",
        "  \"\"\"Calculates the inlet pressure.\n",
        "\n",
        " Args:\n",
        "    decision vector x=(Q,Ro,Rs,μ), where x==[x0,x1,x2,x3],:\n",
        "\n",
        "      Q; is the flow rate\n",
        "      Ro: is the recess radius\n",
        "      Rs: is the bearing step radius\n",
        "      μ: is the viscosity of the fluid\n",
        "\n",
        "  Returns:\n",
        "    The inlet pressure.\n",
        "  \"\"\"\n",
        "  return ((6e-6 * x[3] * x[0]) / (np.pi * h(x)**3)) * np.log(x[2] / x[1])\n",
        "\n",
        "\n",
        "def Ef(x):\n",
        "  \"\"\"Calculates the friction loss.\n",
        "\n",
        "Args:\n",
        "    decision vector x=(Q,Ro,Rs,μ), where x==[x0,x1,x2,x3],:\n",
        "\n",
        "      Q; is the flow rate\n",
        "      Ro: is the recess radius\n",
        "      Rs: is the bearing step radius\n",
        "      μ: is the viscosity of the fluid\n",
        "\n",
        "  Returns:\n",
        "    The friction loss.\n",
        "  \"\"\"\n",
        "  return 143.308 * delta_t(x) * x[0]\n",
        "\n",
        "def delta_t(x):\n",
        "  return 2 * (np.power(10, P(x)) - 560)\n",
        "\n",
        "\n",
        "def f(x):\n",
        "  \"\"\"Computes the operational power loss of a cylindrical hydrostatic thrust bearing.\n",
        "\n",
        "  Args:\n",
        "    x: A decision vector containing the flow rate, recess radius, bearing step radius, and fluid viscosity.\n",
        "\n",
        "  Returns:\n",
        "    The operational power loss.\n",
        "  \"\"\"\n",
        "\n",
        "  return np.mean((P0(x) * x[0]) / 0.7 + Ef(x))\n",
        "\n",
        "\n",
        "def minf(X, constraint_functions=None):\n",
        "    \"\"\"\n",
        "    Computes the local minima of f(x) for x in X\n",
        "    \"\"\"\n",
        "    LOWER_BOUND = 1.0\n",
        "    UPPER_BOUND = 16.0\n",
        "    bounds = [(LOWER_BOUND, UPPER_BOUND),\n",
        "            (LOWER_BOUND, UPPER_BOUND),\n",
        "            (LOWER_BOUND, UPPER_BOUND),\n",
        "            (LOWER_BOUND, UPPER_BOUND)]\n",
        "    return scipy.optimize.minimize(f, X, method='L-BFGS-B', bounds=bounds, constraints=constraint_functions)\n",
        "\n",
        "def h(x):\n",
        "  \"\"\"Calculates the oil thickness.\n",
        "\n",
        "  Args:\n",
        "    decision vector x=(Q,Ro,Rs,μ), where x==[x0,x1,x2,x3],:\n",
        "\n",
        "      Q; is the flow rate\n",
        "      Ro: is the recess radius\n",
        "      Rs: is the bearing step radius\n",
        "      μ: is the viscosity of the fluid\n",
        "\n",
        "  Returns:\n",
        "    The oil thickness.\n",
        "  \"\"\"\n",
        "  return (1500 * np.pi / 60)**2 * (2e-6 * np.pi * x[3] / Ef(x)) * (x*Fraction(4, 3) / 4) - (x*Fraction(4, 2) / 4)\n",
        "\n",
        "\n",
        "@count_calls(FN_COUNTER_MAP)\n",
        "def g1(x):\n",
        "  \"\"\"Calculates the first constraint function.\"\"\"\n",
        "  return np.mean(W(x)) - 101000\n",
        "\n",
        "\n",
        "@count_calls(FN_COUNTER_MAP)\n",
        "def g2(x):\n",
        "  \"\"\"Calculates the second constraint function.\"\"\"\n",
        "  return np.mean(P0(x)) - 1000\n",
        "\n",
        "@count_calls(FN_COUNTER_MAP)\n",
        "def g3(x):\n",
        "  \"\"\"Calculates the third constraint function.\"\"\"\n",
        "  return np.mean(delta_t(x))\n",
        "\n",
        "@count_calls(FN_COUNTER_MAP)\n",
        "def g4(x):\n",
        "  \"\"\"Calculates the fourth constraint function.\"\"\"\n",
        "  return np.mean(h(x)) - 0.001\n",
        "\n",
        "\n",
        "@count_calls(FN_COUNTER_MAP)\n",
        "def g5(x):\n",
        "  \"\"\"Calculates the fifth constraint function.\"\"\"\n",
        "  return x[2] - x[1]\n",
        "\n",
        "@count_calls(FN_COUNTER_MAP)\n",
        "def g6(x):\n",
        "  \"\"\"Calculates the sixth constraint function.\"\"\"\n",
        "  numerator = 0.0307 * x[0]\n",
        "  denominator = 772.8 * np.pi * P0(x) * h(x) * x[2]\n",
        "  return np.mean(( numerator / denominator)) - 0.001\n",
        "\n",
        "@count_calls(FN_COUNTER_MAP)\n",
        "def g7(x):\n",
        "  \"\"\"Calculates the seventh constraint function.\"\"\"\n",
        "  return np.mean(W(x) / np.pi * (x*Fraction(2, 3) - x*Fraction(2, 2)) - 5000)"
      ]
    },
    {
      "cell_type": "code",
      "execution_count": 57,
      "metadata": {
        "id": "5gR82V3BVdOL"
      },
      "outputs": [],
      "source": [
        "# RANDOM SEARCH IMPLEMENTATION\n",
        "def random_search(\n",
        "    f,\n",
        "    decision_vector: np.ndarray,\n",
        "    seed: int = 2023,\n",
        "    low: int | float = 1.0,\n",
        "    high: int | float = 16,\n",
        "    max_evals: int = 10_000,\n",
        "    constraint_functions: list = None):\n",
        "    \"\"\"\n",
        "    Ranomly explores the search space (in our case, the decision vector,\n",
        "    which is a function result of our minimization algorithm).\n",
        "\n",
        "    f: objective function to be optimized\n",
        "    seed: random seed for reproducibility\n",
        "    lb: lower bound of our search space\n",
        "    ub: upper bound of our search space\n",
        "    max_evals: maximum number of evaluations\n",
        "    \"\"\"\n",
        "\n",
        "    np.random.seed(seed)\n",
        "    best_x = decision_vector\n",
        "    best_f = f(decision_vector)\n",
        "\n",
        "    evals = 0 # number of evaluations\n",
        "\n",
        "    # loop until max_evals\n",
        "    while evals < max_evals:\n",
        "        # Generate a random point in the feasible region\n",
        "        x = np.random.uniform(low=1, high=16, size=len(decision_vector))\n",
        "\n",
        "        x = np.clip(x, low, high)\n",
        "\n",
        "        # check if constraint is satisfied\n",
        "        if constraint_functions:\n",
        "            constraints_satisfied = all(c['fun'](decision_vector) <= 0 for c in constraint_functions)\n",
        "        else:\n",
        "            constraints_satisfied = True\n",
        "\n",
        "        if constraints_satisfied:\n",
        "          # Evaluate the objective function at the random point\n",
        "          fx = f(x)\n",
        "\n",
        "          # Update the best solution if the new one is better\n",
        "          if fx < best_f:\n",
        "              best_x = x\n",
        "              best_f = fx\n",
        "\n",
        "          # We just encountered a successful point, step over to next iteration\n",
        "          evals += 1\n",
        "\n",
        "    return best_x, best_f\n"
      ]
    },
    {
      "cell_type": "code",
      "execution_count": 58,
      "metadata": {
        "colab": {
          "base_uri": "https://localhost:8080/"
        },
        "id": "aFmcSLbSVdU-",
        "outputId": "9646fe2f-8eec-4588-d7bb-3809f0add9f6"
      },
      "outputs": [
        {
          "output_type": "stream",
          "name": "stdout",
          "text": [
            "Objective function output, f(x) =  -1784.0769823121077\n",
            "Constraint function output, g1(x) =  -100999.99996507593\n",
            "Constraint function output, g2(x) =  -999.9999982820297\n",
            "Constraint function output, g3(x) =  -2.971181173735431\n",
            "Constraint function output, g4(x) =  -4.139138178830784\n",
            "Constraint function output, g5(x) =  -4.88\n",
            "Constraint function output, g6(x) =  -3.2844870511943767\n",
            "Constraint function output, g7(x) =  -5000.000022036623\n",
            "Constraining:   message: CONVERGENCE: NORM_OF_PROJECTED_GRADIENT_<=_PGTOL\n",
            "  success: True\n",
            "   status: 0\n",
            "      fun: -68488.33657677178\n",
            "        x: [ 1.600e+01  1.157e+01  6.690e+00  1.600e+01]\n",
            "      nit: 1\n",
            "      jac: [-4.281e+03  0.000e+00  0.000e+00 -8.975e+03]\n",
            "     nfev: 10\n",
            "     njev: 2\n",
            " hess_inv: <4x4 LbfgsInvHessProduct with dtype=float64>\n"
          ]
        },
        {
          "output_type": "stream",
          "name": "stderr",
          "text": [
            "/usr/local/lib/python3.10/dist-packages/scipy/optimize/_minimize.py:576: RuntimeWarning: Method L-BFGS-B cannot handle constraints.\n",
            "  warn('Method %s cannot handle constraints.' % method,\n"
          ]
        }
      ],
      "source": [
        "# VALIDATION CODE\n",
        "\n",
        "x = np.array([4.19, 11.57, 6.69, 10.65])\n",
        "\n",
        "print(\"Objective function output, f(x) = \", f(x))\n",
        "print(\"Constraint function output, g1(x) = \", g1(x))\n",
        "print(\"Constraint function output, g2(x) = \", g2(x))\n",
        "print(\"Constraint function output, g3(x) = \", g3(x))\n",
        "print(\"Constraint function output, g4(x) = \", g4(x))\n",
        "print(\"Constraint function output, g5(x) = \", g5(x))\n",
        "print(\"Constraint function output, g6(x) = \", g6(x))\n",
        "print(\"Constraint function output, g7(x) = \", g7(x))\n",
        "\n",
        "constraint_functions = [\n",
        "    {'type': 'ineq', 'fun': g1},\n",
        "    {'type': 'ineq', 'fun': g2},\n",
        "    {'type': 'ineq', 'fun': g3},\n",
        "    {'type': 'ineq', 'fun': g4},\n",
        "    {'type': 'ineq', 'fun': g5},\n",
        "    {'type': 'ineq', 'fun': g6},\n",
        "    {'type': 'ineq', 'fun': g7}\n",
        "]\n",
        "\n",
        "optimized_result = minf(x, constraint_functions)\n",
        "print(f'Constraining: {optimized_result}')"
      ]
    },
    {
      "cell_type": "code",
      "execution_count": 59,
      "metadata": {
        "id": "ibaCRdoXYTuY"
      },
      "outputs": [],
      "source": [
        "def simulated_annealing(\n",
        "    f,\n",
        "    initial_solution: np.ndarray,\n",
        "    seed: int = 2023,\n",
        "    constraint_functions: list = None,\n",
        "    max_evaluations: int = 10_000,\n",
        "    temperature_schedule = lambda t: max(0.01, 0.9**t)): # Entropy temperature, between 0 and 1\n",
        "    \"\"\"\n",
        "    initial_solution: point in the randomized solution from our decision vector,\n",
        "                      of which we intend to explore its global maxima\n",
        "\n",
        "                      (Solution to be evaluated here comes from the random search)\n",
        "\n",
        "    f: objective function to be optimized\n",
        "    tenperature_schedule: function that takes the current iteration and returns the temperature\n",
        "    max_evaluations: maximum number of evaluations\n",
        "    \"\"\"\n",
        "\n",
        "    np.random.seed(seed)    # Set the random seed for reproducibility\n",
        "\n",
        "    # Set our best point, to our starting point\n",
        "    current_point = initial_solution\n",
        "    best_point = current_point\n",
        "\n",
        "    evaluations = 0\n",
        "\n",
        "    while evaluations < max_evaluations:\n",
        "        temperature = temperature_schedule(evaluations / max_evaluations)\n",
        "\n",
        "        # Generate a neighboring solution, essential a random point in our decision space\n",
        "        neighbor_point = current_point + np.random.uniform(1.0, 16.0, size=len(initial_solution))\n",
        "        # neighbor_value = f(neighbor_solution)\n",
        "\n",
        "        if constraint_functions:\n",
        "            constraints_satisfied = all(c['fun'](neighbor_point) <= 0 for c in constraint_functions)\n",
        "        else:\n",
        "            constraints_satisfied = True\n",
        "\n",
        "        if constraints_satisfied:\n",
        "            # Evaluate the objective function at the neighbor point\n",
        "            current_energy = f(current_point)\n",
        "            neighbor_energy = f(neighbor_point)\n",
        "\n",
        "            # Accept the neighbor if it's better or with a certain probability\n",
        "            if neighbor_energy > current_energy or np.random.rand() < np.exp(np.nanmin(current_energy - neighbor_energy) / temperature):\n",
        "                current_point = neighbor_point\n",
        "\n",
        "                # Update the best solution if the current solution is better\n",
        "                if neighbor_energy > f(best_point):\n",
        "                    best_point = neighbor_point\n",
        "\n",
        "        # Perform next evaluation\n",
        "        evaluations += 1\n",
        "\n",
        "    return best_point, f(best_point)"
      ]
    },
    {
      "cell_type": "code",
      "source": [],
      "metadata": {
        "id": "xP8Fsbc8D35j"
      },
      "execution_count": null,
      "outputs": []
    },
    {
      "cell_type": "code",
      "source": [
        "# Perform random search and simulated annealing simulations, 21 times\n",
        "random_search_results = [random_search(f, optimized_result.x, seed=21, constraint_functions=constraint_functions) for _ in range(21)]\n",
        "SA_results = [simulated_annealing(f, optimized_result.x, seed=11, constraint_functions=constraint_functions) for _ in range(21)]\n"
      ],
      "metadata": {
        "id": "-gdcsO40QCZs"
      },
      "execution_count": null,
      "outputs": []
    },
    {
      "cell_type": "code",
      "source": [
        "print(f'Random Search Result: {random_search_results}')\n",
        "print(f'SA Result: {SA_results}')\n",
        "print(f'Shape of Results: {np.array(random_search_results, dtype=object).shape}, {np.array(SA_results, dtype=object).shape}')"
      ],
      "metadata": {
        "colab": {
          "base_uri": "https://localhost:8080/"
        },
        "id": "-4Ro-aLJHs50",
        "outputId": "2e0e96d3-1756-426f-ba78-5308a4cdf00d"
      },
      "execution_count": 109,
      "outputs": [
        {
          "output_type": "stream",
          "name": "stdout",
          "text": [
            "Random Search Result: [(array([16.  , 11.57,  6.69, 16.  ]), -68488.33657677178), (array([16.  , 11.57,  6.69, 16.  ]), -68488.33657677178), (array([16.  , 11.57,  6.69, 16.  ]), -68488.33657677178), (array([16.  , 11.57,  6.69, 16.  ]), -68488.33657677178), (array([16.  , 11.57,  6.69, 16.  ]), -68488.33657677178), (array([16.  , 11.57,  6.69, 16.  ]), -68488.33657677178), (array([16.  , 11.57,  6.69, 16.  ]), -68488.33657677178), (array([16.  , 11.57,  6.69, 16.  ]), -68488.33657677178), (array([16.  , 11.57,  6.69, 16.  ]), -68488.33657677178), (array([16.  , 11.57,  6.69, 16.  ]), -68488.33657677178), (array([16.  , 11.57,  6.69, 16.  ]), -68488.33657677178), (array([16.  , 11.57,  6.69, 16.  ]), -68488.33657677178), (array([16.  , 11.57,  6.69, 16.  ]), -68488.33657677178), (array([16.  , 11.57,  6.69, 16.  ]), -68488.33657677178), (array([16.  , 11.57,  6.69, 16.  ]), -68488.33657677178), (array([16.  , 11.57,  6.69, 16.  ]), -68488.33657677178), (array([16.  , 11.57,  6.69, 16.  ]), -68488.33657677178), (array([16.  , 11.57,  6.69, 16.  ]), -68488.33657677178), (array([16.  , 11.57,  6.69, 16.  ]), -68488.33657677178), (array([16.  , 11.57,  6.69, 16.  ]), -68488.33657677178), (array([16.  , 11.57,  6.69, 16.  ]), -68488.33657677178)]\n",
            "SA Result: [(array([16.  , 11.57,  6.69, 16.  ]), -68488.33657677178), (array([16.  , 11.57,  6.69, 16.  ]), -68488.33657677178), (array([16.  , 11.57,  6.69, 16.  ]), -68488.33657677178), (array([16.  , 11.57,  6.69, 16.  ]), -68488.33657677178), (array([16.  , 11.57,  6.69, 16.  ]), -68488.33657677178), (array([16.  , 11.57,  6.69, 16.  ]), -68488.33657677178), (array([16.  , 11.57,  6.69, 16.  ]), -68488.33657677178), (array([16.  , 11.57,  6.69, 16.  ]), -68488.33657677178), (array([16.  , 11.57,  6.69, 16.  ]), -68488.33657677178), (array([16.  , 11.57,  6.69, 16.  ]), -68488.33657677178), (array([16.  , 11.57,  6.69, 16.  ]), -68488.33657677178), (array([16.  , 11.57,  6.69, 16.  ]), -68488.33657677178), (array([16.  , 11.57,  6.69, 16.  ]), -68488.33657677178), (array([16.  , 11.57,  6.69, 16.  ]), -68488.33657677178), (array([16.  , 11.57,  6.69, 16.  ]), -68488.33657677178), (array([16.  , 11.57,  6.69, 16.  ]), -68488.33657677178), (array([16.  , 11.57,  6.69, 16.  ]), -68488.33657677178), (array([16.  , 11.57,  6.69, 16.  ]), -68488.33657677178), (array([16.  , 11.57,  6.69, 16.  ]), -68488.33657677178), (array([16.  , 11.57,  6.69, 16.  ]), -68488.33657677178), (array([16.  , 11.57,  6.69, 16.  ]), -68488.33657677178)]\n",
            "Shape of Results: (21, 2) (21, 2)\n"
          ]
        }
      ]
    },
    {
      "cell_type": "code",
      "execution_count": 111,
      "metadata": {
        "colab": {
          "base_uri": "https://localhost:8080/",
          "height": 452
        },
        "id": "CYKM8GlHVdqh",
        "outputId": "cb36284e-ea53-4f71-ef70-515974f94e56"
      },
      "outputs": [
        {
          "output_type": "display_data",
          "data": {
            "text/plain": [
              "<Figure size 640x480 with 1 Axes>"
            ],
            "image/png": "[encoded data removed]"
          },
          "metadata": {}
        }
      ],
      "source": [
        "# GRAPH PLOTTING\n",
        "\n",
        "def plot_graph(search_results, sim_results) -> None:\n",
        "  \"\"\"\n",
        "  A box plot showing performances of the competing optimisers\n",
        "  (the random search and the SA method) over 21 repetitions.\n",
        "\n",
        "  Essentially, the box plot shows the distribution of the best objective\n",
        "  function values found by each optimiser.\n",
        "  \"\"\"\n",
        "\n",
        "  rs_results = [(array, value) for array, value in search_results]\n",
        "  sa_results = [(array, value) for array, value in sim_results]\n",
        "\n",
        "  # Extract the numerical values from the results\n",
        "  random_search_values = [rs_result[1] for rs_result in rs_results]\n",
        "  sa_values = [sa_result[1] for sa_result in sa_results]\n",
        "\n",
        "\n",
        "  # Create a box plot\n",
        "  plt.boxplot([random_search_values, sa_values], labels=['Random Search', 'SA'])\n",
        "  plt.title('Performance Comparison of Random Search and Simulated Annealing Results')\n",
        "  plt.ylabel('Numerical Values')\n",
        "  plt.show()\n",
        "\n",
        "plot_graph(search_results=random_search_results, sim_results=SA_results)"
      ]
    },
    {
      "cell_type": "markdown",
      "source": [
        "\n",
        "# Algorithm Analysis over 21 Simulations\n",
        "\n",
        "---\n",
        "\n",
        "## Identical Results Across Repetitions\n",
        "\n",
        "The analysis of the Random Search and Simulated Annealing algorithms over 21 simulations reveals an interesting observation: the provided data shows identical results for both algorithms across all repetitions. Each tuple, representing an optimization, consists of an array and a numerical value, and these values remain consistent throughout the dataset.\n",
        "\n",
        "## Implications on Performance Comparison\n",
        "\n",
        "The identical results in the dataset suggest that, at least, within the parameters and search space considered, there may not be significant performance differences between Random Search and Simulated Annealing. When visualized through a box plot comparison, the distributions of the best objective function values for both algorithms overlap entirely, indicating a lack of observable distinctions in their performances.\n",
        "\n",
        "## Future Exploration and Analysis\n",
        "\n",
        "In future analyses, it would be insightful to explore the algorithms under different search spaces, varying constraints, or additional dimensions. This exploration could provide a more comprehensive understanding of our how Random Search and Simulated Annealing respond to diverse optimization scenarios.\n",
        "\n",
        "The present dataset, while revealing in its uniformity, underscores the importance of adapting optimization strategies to the unique characteristics of the problem at hand. As the input space evolves, so too may the observable distinctions in algorithm performance.\n"
      ],
      "metadata": {
        "id": "0OCTlN9a7lau"
      }
    }
  ],
  "metadata": {
    "colab": {
      "provenance": [],
      "include_colab_link": true
    },
    "kernelspec": {
      "display_name": "Python 3",
      "name": "python3"
    },
    "language_info": {
      "codemirror_mode": {
        "name": "ipython",
        "version": 3
      },
      "file_extension": ".py",
      "mimetype": "text/x-python",
      "name": "python",
      "nbconvert_exporter": "python",
      "pygments_lexer": "ipython3",
      "version": "3.10.12"
    }
  },
  "nbformat": 4,
  "nbformat_minor": 0
}