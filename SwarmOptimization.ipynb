{
  "nbformat": 4,
  "nbformat_minor": 0,
  "metadata": {
    "colab": {
      "provenance": [],
      "authorship_tag": "ABX9TyNg7pzFRS11TLDLUB1SkDL0",
      "include_colab_link": true
    },
    "kernelspec": {
      "name": "python3",
      "display_name": "Python 3"
    },
    "language_info": {
      "name": "python"
    }
  },
  "cells": [
    {
      "cell_type": "markdown",
      "metadata": {
        "id": "view-in-github",
        "colab_type": "text"
      },
      "source": [
        "<a href=\"https://colab.research.google.com/github/50-Course/swarm-optimizers/blob/main/SwarmOptimization.ipynb\" target=\"_parent\"><img src=\"https://colab.research.google.com/assets/colab-badge.svg\" alt=\"Open In Colab\"/></a>"
      ]
    },
    {
      "cell_type": "markdown",
      "source": [
        "## Problem scope: Hydrostatic Thrust Bearing for Minimizing Power Loss\n",
        "\n",
        "```math\n",
        "The power loss depends on the decision vector x = (x1, x2, x3, x4)⊤ ∈ X ⊂ R4, where, x1 = Q\n",
        "is the flow rate, x2 = R0 is the recess radius, x3 = R is the bearing step radius, and finally x4 = μ\n",
        "is the viscosity of the fluid.\n",
        "The optimisation problem is expressed as:\n",
        "min\n",
        "x∈X f (x) = P0(x)x1\n",
        "0.7 + Ef (x)\n",
        "```\n",
        "\n",
        "The power loss in our system is influenced by four factors"
      ],
      "metadata": {
        "id": "LaF4oGwpkWB3"
      }
    },
    {
      "cell_type": "code",
      "execution_count": 1,
      "metadata": {
        "id": "NWjtLY31305j"
      },
      "outputs": [],
      "source": [
        "import numpy as np\n",
        "import matplotlib.pyplot as plt\n",
        "\n",
        "# Todo: use numpy.random.seed somewhere\n",
        "# You must ensure that all the results are pre-generated and repeatable2,\n",
        "# otherwise you may lose marks."
      ]
    },
    {
      "cell_type": "code",
      "source": [
        "# Counter for function evaluations with all values initialized to zero\n",
        "# a simple hack to get by not using, `collections.Counter`\n",
        "COUNTER_MAP = {\n",
        "    'f': 0,\n",
        "    'g1': 0,\n",
        "    'g2': 0,\n",
        "    'g3': 0,\n",
        "    'g4': 0,\n",
        "    'g5': 0,\n",
        "    'g6': 0,\n",
        "    'g7': 0\n",
        "}\n",
        "\n",
        "# Function to reset counters\n",
        "def reset_counters() -> None:\n",
        "    for key in COUNTER_MAP:\n",
        "        COUNTER_MAP[key] = 0\n",
        "\n",
        "# Function to increment counters\n",
        "def increment_counter(func_name) -> None:\n",
        "    COUNTER_MAP[func_name] += 1\n",
        "\n",
        "# ==================================================\n",
        "# Function Definitions\n",
        "#\n",
        "# - W (x) is the load carrying capacity\n",
        "# - P0(x) is the inlet pressure,\n",
        "# - Ef (x) is the friction loss\n",
        "# - ∆T (x) is the temperature,\n",
        "# - P (x) is the pressure\n",
        "# - h(x) is the oil thickness.\n",
        "\n",
        "def W(x):\n",
        "  \"\"\"\n",
        "  Load carrying capacity\n",
        "  \"\"\"\n",
        "  increment_counter('g1')\n",
        "  return ((np.pi * P0(x)) / 2) * ((x**(2/3)) - (x**(3/2))) / np.log(x[3]/x[2])\n",
        "\n",
        "def P0(x):\n",
        "  \"\"\"\n",
        "  Inlet pressure\n",
        "  \"\"\"\n",
        "  increment_counter('g2')\n",
        "  return ((6e-6 * x[3] * x[0]) / np.pi * h(x)**3 ) * np.log(x[3] / x[2])\n",
        "\n",
        "def Ef(x):\n",
        "  \"\"\"\n",
        "  Friction loss\n",
        "  \"\"\"\n",
        "  increment_counter('f')\n",
        "  return 143.308 * Tdelta(x) * x[1]\n",
        "\n",
        "def Tdelta(x):\n",
        "  \"\"\"\n",
        "  Differential temperature\n",
        "  \"\"\"\n",
        "  increment_counter('g3')\n",
        "  return 2*(10**P(x) - 560)\n",
        "\n",
        "def P(x):\n",
        "  increment_counter('g4')\n",
        "  return np.log10(np.log10(8.122 * x[3] + 0.8)) - 10.04 - 3.55\n",
        "\n",
        "\n",
        "def h(x):\n",
        "  increment_counter('g5')\n",
        "  return (1500 * np.pi / 60)**2 * 2e-6 * np.pi * x[3] * Ef(x) * (x[3]**4 - x[3]**2) / 4\n",
        "\n",
        "\n",
        "# ==================================================\n",
        "# Objective function\n",
        "# f(x) is the function we want to minimize (or optimize)\n",
        "\n",
        "def f(x):\n",
        "  increment_counter('f')\n",
        "  return ((P0(x) * x[0])/0.7) + Ef(x)\n",
        "\n",
        "\n",
        "# ==================================================\n",
        "# Constraint Definitions\n",
        "#\n",
        "# gi​(x), where gi [1,,7]\n",
        "#\n",
        "# where:\n",
        "# - g1(x) is weight capacity > weight of generator\n",
        "# - g2(x) is inlet oil pressure\n",
        "# - g3(x) is oil temperature rise\n",
        "# - g4(x) is oil film thickness\n",
        "# - g5(x) is step radius > recess radius\n",
        "# - g6(x) is limits on significance off exit loss < 0.001\n",
        "# - g7(x) is the limit for contact pressure < 5000\n",
        "def g1(x):\n",
        "  increment_counter('g1')\n",
        "  return 101000 - W(x)\n",
        "\n",
        "def g2(x):\n",
        "  increment_counter('g2')\n",
        "  return P0(x) - 1000\n",
        "\n",
        "def g3(x):\n",
        "  increment_counter('g3')\n",
        "  return Tdelta(x) - 50\n",
        "\n",
        "def g4(x):\n",
        "  increment_counter('g4')\n",
        "  return 0.001 - h(x)\n",
        "\n",
        "def g5(x):\n",
        "  increment_counter('g5')\n",
        "  return x[2] - x[3]\n",
        "\n",
        "def g6(x):\n",
        "  increment_counter('g6')\n",
        "  return 0.0307 * x[0]**(772.8 * np.pi * P0(x) * h(x) * x[2]) - 0.001\n",
        "\n",
        "def g7(x):\n",
        "  increment_counter('g7')\n",
        "  return W(x) / (np.pi * (x[2]**3 - x[1]**2)) - 50"
      ],
      "metadata": {
        "id": "EqspZ6StFSFY"
      },
      "execution_count": 2,
      "outputs": []
    },
    {
      "cell_type": "code",
      "source": [
        "# So here is how the random search algo works\n",
        "# We have a method, that takes in some iterations, a function distribution, seed - a random intertia\n",
        "def random_search(\n",
        "    seed: int,\n",
        "    iterations: int,\n",
        "    fn_dist: list[t.Callable]\n",
        "    ) -> int | float:\n",
        "\n",
        "    # lets set a random see\n",
        "    np.random.seed(seed)\n",
        "    # set our best index to the starting point in our space\n",
        "    best_index = None\n",
        "    # setting our best value to negative infinity\n",
        "    best_value = -np.inf\n",
        "\n",
        "    # walk all the way through our iterations\n",
        "    for idx in range(iterations):\n",
        "      # grab a function index from our function distrbution\n",
        "      # TODO: We don't just want to grab a function index, we want to randomly\n",
        "      # select the function index\n",
        "      fn_idx = np.random.randint(0, len(fn_dist))\n",
        "      # then we call the function using its index\n",
        "      val = fn_dist[fn_idx]()\n",
        "      # compare the function returned from our function\n",
        "      # the best value yet is if ours is greater than the best value\n",
        "      # reset the index to the current's value index\n",
        "      if val < best_value:\n",
        "        best_value = val\n",
        "        best_index = fn_idx\n",
        "    return best_index, best_value\n"
      ],
      "metadata": {
        "id": "t4gAGi6idc9u",
        "colab": {
          "base_uri": "https://localhost:8080/",
          "height": 247
        },
        "outputId": "f0108ac3-215c-4f3d-cbcb-e47305f09420"
      },
      "execution_count": 3,
      "outputs": [
        {
          "output_type": "error",
          "ename": "NameError",
          "evalue": "ignored",
          "traceback": [
            "\u001b[0;31m---------------------------------------------------------------------------\u001b[0m",
            "\u001b[0;31mNameError\u001b[0m                                 Traceback (most recent call last)",
            "\u001b[0;32m<ipython-input-3-f189e033c34f>\u001b[0m in \u001b[0;36m<cell line: 3>\u001b[0;34m()\u001b[0m\n\u001b[1;32m      4\u001b[0m     \u001b[0mseed\u001b[0m\u001b[0;34m:\u001b[0m \u001b[0mint\u001b[0m\u001b[0;34m,\u001b[0m\u001b[0;34m\u001b[0m\u001b[0;34m\u001b[0m\u001b[0m\n\u001b[1;32m      5\u001b[0m     \u001b[0miterations\u001b[0m\u001b[0;34m:\u001b[0m \u001b[0mint\u001b[0m\u001b[0;34m,\u001b[0m\u001b[0;34m\u001b[0m\u001b[0;34m\u001b[0m\u001b[0m\n\u001b[0;32m----> 6\u001b[0;31m     \u001b[0mfn_dist\u001b[0m\u001b[0;34m:\u001b[0m \u001b[0mlist\u001b[0m\u001b[0;34m[\u001b[0m\u001b[0mt\u001b[0m\u001b[0;34m.\u001b[0m\u001b[0mCallable\u001b[0m\u001b[0;34m]\u001b[0m\u001b[0;34m\u001b[0m\u001b[0;34m\u001b[0m\u001b[0m\n\u001b[0m\u001b[1;32m      7\u001b[0m     ) -> int | float:\n\u001b[1;32m      8\u001b[0m \u001b[0;34m\u001b[0m\u001b[0m\n",
            "\u001b[0;31mNameError\u001b[0m: name 't' is not defined"
          ]
        }
      ]
    },
    {
      "cell_type": "code",
      "source": [
        "import typing as t\n",
        "import secrets\n",
        "import numpy as np\n",
        "\n",
        "\n",
        "from numpy.typing import ArrayLike\n",
        "from pprint import pprint\n",
        "\n",
        "\"\"\" Seeds are 39 digit, 128-bit based integers that ensures the randomnesss of a function.\n",
        "\n",
        "    In our case, we're defining a constant that would allow for reproducability of\n",
        "    the results from a mathematical function.\n",
        "\n",
        "    These can easily be generated using the `secrets` library from the Python's Standard Lib.\n",
        "\n",
        "    Example:\n",
        "\n",
        "      seed = secrets.randbits(128)\n",
        "      pprint(f'Seed value: {seed}')\n",
        "\n",
        "    Usage:\n",
        "\n",
        "      f(seed=SEED_VAL, ...)\n",
        "\n",
        "\"\"\"\n",
        "SEED_VAL = 121460500873514285830857861626501934360\n",
        "\n",
        "\n",
        "def random_search(seed: int, fn: t.Callable[[ArrayLike], t.Any], iterations: int = 21):\n",
        "  reset_counters()\n",
        "  np.random.seed(seed=seed) or np.random.seed(2023)\n",
        "  best_val, best_idx = -np.inf, None\n",
        "\n",
        "  return\n",
        "\n"
      ],
      "metadata": {
        "id": "vVlWDpS2jV4N",
        "colab": {
          "base_uri": "https://localhost:8080/"
        },
        "outputId": "d9faf154-ab1a-4db6-aeae-678fdc603c1e"
      },
      "execution_count": 4,
      "outputs": [
        {
          "output_type": "stream",
          "name": "stdout",
          "text": [
            "'Seed value: 132913521146920668028001316869887677952'\n"
          ]
        }
      ]
    },
    {
      "cell_type": "code",
      "source": [],
      "metadata": {
        "id": "msoJW7hgjS5Z"
      },
      "execution_count": null,
      "outputs": []
    },
    {
      "cell_type": "code",
      "source": [
        "# Let's test our random search\n",
        "\n",
        "\n",
        "def fnOne:\n",
        "  return np.random.rand() + 1\n",
        "\n",
        "\n",
        "def fnTwo():\n",
        "  return np.random.rand() * 2\n",
        "\n",
        "\n",
        "def fnThree():\n",
        "  import math\n",
        "  return np.random.rand() + math.pow(3, 2)\n",
        "\n",
        "\n",
        "def fnFour():\n",
        "  return np.random.rand() + 5\n",
        "\n",
        "# Our optimization space\n",
        "decision_space = [fnOne, fnTwo, fnThree, fnFour]\n",
        "\n",
        "# Set the seed\n",
        "seed = 25\n",
        "\n",
        "# perform random serch with 21 iterations\n",
        "best_idx, best_val = random_search(seed, 1000, decision_space)\n",
        "\n",
        "print(f'Best value: {best_val}, Best Index: {best_idx}')"
      ],
      "metadata": {
        "id": "2MfBt43DH_vO"
      },
      "execution_count": null,
      "outputs": []
    },
    {
      "cell_type": "code",
      "source": [
        "# Validation code\n",
        "x = np.array([4.19, 11.57, 6.69, 10.65])\n",
        "print(\"Objective function output, f(x) = \", f(x))\n",
        "print(\"Objective function output, g1(x) = \", g1(x))\n",
        "print(\"Objective function output, g2(x) = \", g2(x))\n",
        "print(\"Objective function output, g3(x) = \", g3(x))\n",
        "print(\"Objective function output, g4(x) = \", g4(x))\n",
        "print(\"Objective function output, g5(x) = \", g5(x))\n",
        "print(\"Objective function output, g6(x) = \", g6(x))\n",
        "print(\"Objective function output, g7(x) = \", g7(x))\n"
      ],
      "metadata": {
        "id": "KzYcvRYx4m-T"
      },
      "execution_count": null,
      "outputs": []
    },
    {
      "cell_type": "code",
      "source": [],
      "metadata": {
        "id": "vxXtMyQoEtqb"
      },
      "execution_count": null,
      "outputs": []
    }
  ]
}