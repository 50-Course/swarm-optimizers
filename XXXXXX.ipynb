{
  "cells": [
    {
      "cell_type": "markdown",
      "metadata": {
        "colab_type": "text",
        "id": "view-in-github"
      },
      "source": [
        "<a href=\"https://colab.research.google.com/github/50-Course/swarm-optimizers/blob/main/XXXXXX.ipynb\" target=\"_parent\"><img src=\"https://colab.research.google.com/assets/colab-badge.svg\" alt=\"Open In Colab\"/></a>"
      ]
    },
    {
      "cell_type": "code",
      "execution_count": 75,
      "metadata": {
        "id": "JNsCkwwgVZdv"
      },
      "outputs": [],
      "source": [
        "# DEPENDENCIES\n",
        "import numpy as np\n",
        "import scipy as sp\n",
        "import matplotlib.pyplot as plt\n",
        "\n",
        "from fractions import Fraction\n",
        "import math"
      ]
    },
    {
      "cell_type": "code",
      "execution_count": 115,
      "metadata": {
        "id": "9Q3ubMpOVdK9"
      },
      "outputs": [],
      "source": [
        "# FUNCTION IMPLEMENTATIONS\n",
        "\n",
        "# Arguments:\n",
        "# x: A numpy array (decision vector) containing the following variables:\n",
        "#     x[0]: The tensile space.\n",
        "#     x[1]: The oil pressure.\n",
        "#     x[2]: The oil temperature rise.\n",
        "#     x[3]: The oil film thickness.\n",
        "#     x[4]: The step radius.\n",
        "#     x[5]: The recess radius.\n",
        "#     x[6]: The viscosity of the oil.\n",
        "#     x[7]: The contact pressure.\n",
        "\n",
        "def P(x):\n",
        "  return (np.log10(np.log10(8.122 * x[3] + 0.8)) - 10.04) / -3.55\n",
        "\n",
        "def W(x):\n",
        "  \"\"\"Calculates the load carrying capacity.\n",
        "\n",
        "  Args:\n",
        "    decision vector x=(Q,Ro,Rs,μ), where x==[x0,x1,x2,x3],:\n",
        "\n",
        "      Q; is the flow rate\n",
        "      Ro: is the recess radius\n",
        "      Rs: is the bearing step radius\n",
        "      μ: is the viscosity of the fluid\n",
        "\n",
        "\n",
        "\n",
        "  Returns:\n",
        "    The load carrying capacity.\n",
        "  \"\"\"\n",
        "\n",
        "  return (np.pi * P0(x) / 2) * ((x[3]**2 - x[2]**2) / np.log(x[2] / x[1]))\n",
        "\n",
        "def P0(x):\n",
        "  \"\"\"Calculates the inlet pressure.\n",
        "\n",
        " Args:\n",
        "    decision vector x=(Q,Ro,Rs,μ), where x==[x0,x1,x2,x3],:\n",
        "\n",
        "      Q; is the flow rate\n",
        "      Ro: is the recess radius\n",
        "      Rs: is the bearing step radius\n",
        "      μ: is the viscosity of the fluid\n",
        "\n",
        "  Returns:\n",
        "    The inlet pressure.\n",
        "  \"\"\"\n",
        "  return ((6e-6 * x[3] * x[0]) / (np.pi * h(x)**3)) * np.log(x[2] / x[1])\n",
        "\n",
        "def Ef(x):\n",
        "  \"\"\"Calculates the friction loss.\n",
        "\n",
        "Args:\n",
        "    decision vector x=(Q,Ro,Rs,μ), where x==[x0,x1,x2,x3],:\n",
        "\n",
        "      Q; is the flow rate\n",
        "      Ro: is the recess radius\n",
        "      Rs: is the bearing step radius\n",
        "      μ: is the viscosity of the fluid\n",
        "\n",
        "  Returns:\n",
        "    The friction loss.\n",
        "  \"\"\"\n",
        "\n",
        "  return 143.308 * delta_t(x)*x[0]\n",
        "\n",
        "def delta_t(x):\n",
        "  return 2 * (np.power(10, P(x)) - 560)\n",
        "\n",
        "\n",
        "def f(x):\n",
        "  \"\"\"Computes the operational power loss of a cylindrical hydrostatic thrust bearing.\n",
        "\n",
        "  Args:\n",
        "    x: A decision vector containing the flow rate, recess radius, bearing step radius, and fluid viscosity.\n",
        "\n",
        "  Returns:\n",
        "    The operational power loss.\n",
        "  \"\"\"\n",
        "  \n",
        "  return ((P0(x) * x[0]) / 0.7) + Ef(x)\n",
        "\n",
        "\n",
        "def h(x):\n",
        "  \"\"\"Calculates the oil thickness.\n",
        "\n",
        "  Args:\n",
        "    decision vector x=(Q,Ro,Rs,μ), where x==[x0,x1,x2,x3],:\n",
        "\n",
        "      Q; is the flow rate\n",
        "      Ro: is the recess radius\n",
        "      Rs: is the bearing step radius\n",
        "      μ: is the viscosity of the fluid\n",
        "\n",
        "\n",
        "\n",
        "  Returns:\n",
        "    The oil thickness.\n",
        "  \"\"\"\n",
        "\n",
        "  return ((1500 * np.pi / 60)**2) * (2e-6 * np.pi * x[3] / Ef(x)) * ((x*Fraction(4, 3) / 4) - (x*Fraction(4, 2) / 4))\n",
        "\n",
        "def g1(x):\n",
        "  \"\"\"Calculates the first constraint function.\"\"\"\n",
        "  return 101000 - W(x)\n",
        "\n",
        "def g2(x):\n",
        "  \"\"\"Calculates the second constraint function.\"\"\"\n",
        "  return P0(x) - 1000\n",
        "\n",
        "def g3(x):\n",
        "  \"\"\"Calculates the third constraint function.\"\"\"\n",
        "  return delta_t(x) - 50\n",
        "\n",
        "def g4(x):\n",
        "  \"\"\"Calculates the fourth constraint function.\"\"\"\n",
        "  return 0.001 - h(x)\n",
        "\n",
        "def g5(x):\n",
        "  \"\"\"Calculates the fifth constraint function.\"\"\"\n",
        "  return x[1] - x[2]\n",
        "\n",
        "def g6(x):\n",
        "  \"\"\"Calculates the sixth constraint function.\"\"\"\n",
        "  return ((0.0307 * x[0]) / (772.8 * np.pi * P0(x) * h(x) * x[2])) - 0.001\n",
        "\n",
        "def g7(x):\n",
        "  \"\"\"Calculates the seventh constraint function.\"\"\"\n",
        "\n",
        "  return (W(x) / np.pi * (x*Fraction(2, 3) - x*Fraction(2, 2))) - 5000"
      ]
    },
    {
      "cell_type": "code",
      "execution_count": 77,
      "metadata": {
        "id": "5gR82V3BVdOL"
      },
      "outputs": [],
      "source": [
        "# RANDOM SEARCH IMPLEMENTATION\n",
        "def random_search(f, x_array, seed=np.random.seed(48), lb=1, ub=16, max_evals=10_000, constraint_functions=[]):\n",
        "    \"\"\"\n",
        "    f: objective function to be optimized\n",
        "    seed: random seed for reproducibility\n",
        "    lb: lower bound of our search space\n",
        "    ub: upper bound of our search space\n",
        "    max_evals: maximum number of evaluations\n",
        "    \"\"\"\n",
        "\n",
        "    np.random.seed(seed)\n",
        "\n",
        "    best_x = None\n",
        "    best_f = np.inf\n",
        "\n",
        "    # Ensure we working with array at all times (just a little safeguard)\n",
        "    search_space = np.array(x_array)\n",
        "\n",
        "    evals = 0 # number of evaluations\n",
        "\n",
        "    # loop until max_evals\n",
        "    while evals < max_evals:\n",
        "        # generate random x\n",
        "        x = np.random.uniform(search_space, size=len(x_array))\n",
        "\n",
        "        x = np.clip(x, lb, ub)\n",
        "\n",
        "        # check if constraint is satisfied\n",
        "        constraints = [g(x) for g in constraint_functions]\n",
        "        if np.all(c<= 0 for c in constraints):\n",
        "          fx = f(x)\n",
        "\n",
        "          # update best_x and best_f if necessary\n",
        "          if np.all(fx < best_f):\n",
        "              best_x = x\n",
        "              best_f = fx\n",
        "          # increment evals\n",
        "          evals += 1\n",
        "\n",
        "    return best_x, best_f\n"
      ]
    },
    {
      "cell_type": "code",
      "execution_count": 78,
      "metadata": {
        "id": "N176Tq_BWd4f"
      },
      "outputs": [],
      "source": [
        "# SIMULATED ANNEALING IMPLEMENTATION\n",
        "\n",
        "def simulated_annealing_old(f, initial_solution, seed=np.random.seed(48), max_evaluations=10_000, control_parameter=1):\n",
        "    \"\"\"\n",
        "    f: objective function to be optimized\n",
        "    seed: random seed for reproducibility\n",
        "    initial_solution: initial solution from which we start our search (this comes from our random search)\n",
        "    max_iterations: maximum number of iterations (stop criterion)\n",
        "    control_parameter: control parameter for simulated annealing (temperature)\n",
        "    \"\"\"\n",
        "\n",
        "    cool_rate = 0.95\n",
        "\n",
        "    np.random.seed(seed)\n",
        "\n",
        "    current_solution = initial_solution\n",
        "    current_value = f(current_solution)\n",
        "\n",
        "    best_solution = current_solution\n",
        "    best_value = current_value\n",
        "\n",
        "    for _ in range(max_evaluations):\n",
        "        # Generate a new solution\n",
        "        neighbour_solution = current_solution + np.random.uniform(0, 1) # Keeping our new decision space within our constraints\n",
        "        neighbour_value = f(neighbour_solution)\n",
        "\n",
        "        # Accept or reject the new solution based on acceptance probability\n",
        "        acceptance_prob = accept_p(neighbour_value, current_value, control_parameter)\n",
        "        if np.random.rand() < acceptance_prob:\n",
        "            current_solution = neighbour_solution\n",
        "            current_value = neighbour_value\n",
        "\n",
        "        # Update the best solution if the current solution is better\n",
        "        if current_value < best_value:\n",
        "            best_solution = current_solution\n",
        "            best_value = current_value\n",
        "\n",
        "        # Cool the temperature\n",
        "        control_parameter *= cool_rate\n",
        "\n",
        "    return best_solution, best_value\n",
        "\n",
        "def simluated_annealing(f, control_parameter=100, max_evaluations=10_000, cool_rate=0.95):\n",
        "    \"\"\"\n",
        "    f: energy function (objective function)\n",
        "    control_parameter: Temperature at time step\n",
        "    max_evaluations: maximum number of evaluations\n",
        "    cool_rate: cooling rate\n",
        "    \"\"\"\n",
        "    \n",
        "    # Initialize the current solution\n",
        "    current_solution = np.random.uniform()\n",
        "    current_value = f(current_solution)\n",
        "    \n",
        "    # Initialize the best solution\n",
        "    best_solution = current_solution\n",
        "    best_value = current_value\n",
        "    \n",
        "    # Initialize the number of evaluations\n",
        "    evaluations = 0\n",
        "    \n",
        "    # Loop until max_evaluations\n",
        "    while evaluations < max_evaluations:\n",
        "        \n",
        "        # Generate a new solution\n",
        "        neighbour_solution = current_solution + np.random.uniform(0, 1, size=8)\n",
        "        neighbour_value = f(neighbour_solution)\n",
        "        \n",
        "        # Accept or reject the new solution based on acceptance probability\n",
        "        acceptance_prob = accept_p(neighbour_value, current_value, control_parameter)\n",
        "        if np.random.rand() < acceptance_prob:\n",
        "            current_solution = neighbour_solution\n",
        "            current_value = neighbour_value\n",
        "            \n",
        "        # Update the best solution if the current solution is better\n",
        "        if current_value < best_value:\n",
        "            best_solution = current_solution\n",
        "            best_value = current_value\n",
        "            \n",
        "        # Cool the temperature\n",
        "        control_parameter *= cool_rate\n",
        "        \n",
        "        # Increment the number of evaluations\n",
        "        evaluations += 1\n",
        "        \n",
        "    return best_solution, best_value\n",
        "\n",
        "def accept_p(neighbour_solution, current_solution, control_parameter):\n",
        "    \"\"\"\n",
        "    Acceptance probability for the Simulated annealing method.\n",
        "\n",
        "    neighbour_solution: new solution\n",
        "    current_solution: current solution\n",
        "    control_parameter: control parameter for simulated annealing (temperature)\n",
        "    \"\"\"\n",
        "    if neighbour_solution < current_solution:\n",
        "        return 1.0  # accept new solution\n",
        "    else:\n",
        "        return np.exp((neighbour_solution - current_solution) / control_parameter)  # accept new solution with probability"
      ]
    },
    {
      "cell_type": "code",
      "execution_count": 89,
      "metadata": {
        "colab": {
          "base_uri": "https://localhost:8080/"
        },
        "id": "aFmcSLbSVdU-",
        "outputId": "c7c716ff-a84c-4cc8-f98d-b7c744b4f9f2"
      },
      "outputs": [
        {
          "name": "stdout",
          "output_type": "stream",
          "text": [
            "Objective function output, f(x) =  [-66258374.6794144 -3148598.097346256 -16279475.07768886\n",
            " -4036587.029849999]\n",
            "Type of f(x):  <class 'numpy.ndarray'>\n",
            "Constraint function output, g1(x) =  [-2179384118.4763093 -103412239.44704632 -535347398.0628562\n",
            " -132622294.57011858]\n",
            "Constraint function output, g2(x) =  [-11070120.148375956 -526720.7193908262 -2720423.317538755\n",
            " -675072.0923628119]\n",
            "Constraint function output, g3(x) =  -52.97118117373543\n",
            "Constraint function output, g4(x) =  [0.0008384308579466824 0.0005538532282680466 0.0007420292218766839\n",
            " 0.0005893290303418061]\n",
            "Constraint function output, g5(x) =  4.88\n",
            "Constraint function output, g6(x) =  [-0.0010000044283075384 -0.0010000337657535443 -0.0010000112891687231\n",
            " -0.001000028609412784]\n",
            "Constraint function output, g7(x) =  [-968944818.4687054 -127079418.6640295 -380082896.57763827\n",
            " -149982335.59936023]\n"
          ]
        },
        {
          "ename": "ValueError",
          "evalue": "The user-provided objective function must return a scalar value.",
          "output_type": "error",
          "traceback": [
            "\u001b[0;31m---------------------------------------------------------------------------\u001b[0m",
            "\u001b[0;31mValueError\u001b[0m                                Traceback (most recent call last)",
            "File \u001b[0;32m~/personal/optimizers/venv/lib/python3.10/site-packages/scipy/optimize/_optimize.py:626\u001b[0m, in \u001b[0;36m_wrap_scalar_function_maxfun_validation.<locals>.function_wrapper\u001b[0;34m(x, *wrapper_args)\u001b[0m\n\u001b[1;32m    625\u001b[0m \u001b[39mtry\u001b[39;00m:\n\u001b[0;32m--> 626\u001b[0m     fx \u001b[39m=\u001b[39m np\u001b[39m.\u001b[39;49masarray(fx)\u001b[39m.\u001b[39;49mitem()\n\u001b[1;32m    627\u001b[0m \u001b[39mexcept\u001b[39;00m (\u001b[39mTypeError\u001b[39;00m, \u001b[39mValueError\u001b[39;00m) \u001b[39mas\u001b[39;00m e:\n",
            "\u001b[0;31mValueError\u001b[0m: can only convert an array of size 1 to a Python scalar",
            "\nThe above exception was the direct cause of the following exception:\n",
            "\u001b[0;31mValueError\u001b[0m                                Traceback (most recent call last)",
            "\u001b[1;32m/home/erioluwa/personal/optimizers/swarm-optimizers/XXXXXX.ipynb Cell 6\u001b[0m line \u001b[0;36m1\n\u001b[1;32m     <a href='vscode-notebook-cell:/home/erioluwa/personal/optimizers/swarm-optimizers/XXXXXX.ipynb#W5sZmlsZQ%3D%3D?line=16'>17</a>\u001b[0m constraint_functions \u001b[39m=\u001b[39m {\u001b[39m'\u001b[39m\u001b[39mtype\u001b[39m\u001b[39m'\u001b[39m: \u001b[39m'\u001b[39m\u001b[39mineq\u001b[39m\u001b[39m'\u001b[39m, \u001b[39m'\u001b[39m\u001b[39mfun\u001b[39m\u001b[39m'\u001b[39m: g1}, {\u001b[39m'\u001b[39m\u001b[39mtype\u001b[39m\u001b[39m'\u001b[39m: \u001b[39m'\u001b[39m\u001b[39mineq\u001b[39m\u001b[39m'\u001b[39m, \u001b[39m'\u001b[39m\u001b[39mfun\u001b[39m\u001b[39m'\u001b[39m: g2}, {\u001b[39m'\u001b[39m\u001b[39mtype\u001b[39m\u001b[39m'\u001b[39m: \u001b[39m'\u001b[39m\u001b[39mineq\u001b[39m\u001b[39m'\u001b[39m, \u001b[39m'\u001b[39m\u001b[39mfun\u001b[39m\u001b[39m'\u001b[39m: g3}, {\u001b[39m'\u001b[39m\u001b[39mtype\u001b[39m\u001b[39m'\u001b[39m: \u001b[39m'\u001b[39m\u001b[39mineq\u001b[39m\u001b[39m'\u001b[39m, \u001b[39m'\u001b[39m\u001b[39mfun\u001b[39m\u001b[39m'\u001b[39m: g4}, {\u001b[39m'\u001b[39m\u001b[39mtype\u001b[39m\u001b[39m'\u001b[39m: \u001b[39m'\u001b[39m\u001b[39mineq\u001b[39m\u001b[39m'\u001b[39m, \u001b[39m'\u001b[39m\u001b[39mfun\u001b[39m\u001b[39m'\u001b[39m: g5}, {\u001b[39m'\u001b[39m\u001b[39mtype\u001b[39m\u001b[39m'\u001b[39m: \u001b[39m'\u001b[39m\u001b[39mineq\u001b[39m\u001b[39m'\u001b[39m, \u001b[39m'\u001b[39m\u001b[39mfun\u001b[39m\u001b[39m'\u001b[39m: g6}, {\u001b[39m'\u001b[39m\u001b[39mtype\u001b[39m\u001b[39m'\u001b[39m: \u001b[39m'\u001b[39m\u001b[39mineq\u001b[39m\u001b[39m'\u001b[39m, \u001b[39m'\u001b[39m\u001b[39mfun\u001b[39m\u001b[39m'\u001b[39m: g7}\n\u001b[1;32m     <a href='vscode-notebook-cell:/home/erioluwa/personal/optimizers/swarm-optimizers/XXXXXX.ipynb#W5sZmlsZQ%3D%3D?line=17'>18</a>\u001b[0m \u001b[39m# Optimize the function, f(x)\u001b[39;00m\n\u001b[0;32m---> <a href='vscode-notebook-cell:/home/erioluwa/personal/optimizers/swarm-optimizers/XXXXXX.ipynb#W5sZmlsZQ%3D%3D?line=18'>19</a>\u001b[0m optimized \u001b[39m=\u001b[39m sp\u001b[39m.\u001b[39;49moptimize\u001b[39m.\u001b[39;49mfmin(f, x)\n\u001b[1;32m     <a href='vscode-notebook-cell:/home/erioluwa/personal/optimizers/swarm-optimizers/XXXXXX.ipynb#W5sZmlsZQ%3D%3D?line=19'>20</a>\u001b[0m \u001b[39m# test the random search\u001b[39;00m\n\u001b[1;32m     <a href='vscode-notebook-cell:/home/erioluwa/personal/optimizers/swarm-optimizers/XXXXXX.ipynb#W5sZmlsZQ%3D%3D?line=20'>21</a>\u001b[0m best_x, best_f \u001b[39m=\u001b[39m random_search(f, x, seed\u001b[39m=\u001b[39m\u001b[39m420\u001b[39m, max_evals\u001b[39m=\u001b[39m\u001b[39m10_000\u001b[39m, constraint_functions\u001b[39m=\u001b[39mconstraint_functions)\n",
            "File \u001b[0;32m~/personal/optimizers/venv/lib/python3.10/site-packages/scipy/optimize/_optimize.py:747\u001b[0m, in \u001b[0;36mfmin\u001b[0;34m(func, x0, args, xtol, ftol, maxiter, maxfun, full_output, disp, retall, callback, initial_simplex)\u001b[0m\n\u001b[1;32m    738\u001b[0m opts \u001b[39m=\u001b[39m {\u001b[39m'\u001b[39m\u001b[39mxatol\u001b[39m\u001b[39m'\u001b[39m: xtol,\n\u001b[1;32m    739\u001b[0m         \u001b[39m'\u001b[39m\u001b[39mfatol\u001b[39m\u001b[39m'\u001b[39m: ftol,\n\u001b[1;32m    740\u001b[0m         \u001b[39m'\u001b[39m\u001b[39mmaxiter\u001b[39m\u001b[39m'\u001b[39m: maxiter,\n\u001b[0;32m   (...)\u001b[0m\n\u001b[1;32m    743\u001b[0m         \u001b[39m'\u001b[39m\u001b[39mreturn_all\u001b[39m\u001b[39m'\u001b[39m: retall,\n\u001b[1;32m    744\u001b[0m         \u001b[39m'\u001b[39m\u001b[39minitial_simplex\u001b[39m\u001b[39m'\u001b[39m: initial_simplex}\n\u001b[1;32m    746\u001b[0m callback \u001b[39m=\u001b[39m _wrap_callback(callback)\n\u001b[0;32m--> 747\u001b[0m res \u001b[39m=\u001b[39m _minimize_neldermead(func, x0, args, callback\u001b[39m=\u001b[39;49mcallback, \u001b[39m*\u001b[39;49m\u001b[39m*\u001b[39;49mopts)\n\u001b[1;32m    748\u001b[0m \u001b[39mif\u001b[39;00m full_output:\n\u001b[1;32m    749\u001b[0m     retlist \u001b[39m=\u001b[39m res[\u001b[39m'\u001b[39m\u001b[39mx\u001b[39m\u001b[39m'\u001b[39m], res[\u001b[39m'\u001b[39m\u001b[39mfun\u001b[39m\u001b[39m'\u001b[39m], res[\u001b[39m'\u001b[39m\u001b[39mnit\u001b[39m\u001b[39m'\u001b[39m], res[\u001b[39m'\u001b[39m\u001b[39mnfev\u001b[39m\u001b[39m'\u001b[39m], res[\u001b[39m'\u001b[39m\u001b[39mstatus\u001b[39m\u001b[39m'\u001b[39m]\n",
            "File \u001b[0;32m~/personal/optimizers/venv/lib/python3.10/site-packages/scipy/optimize/_optimize.py:899\u001b[0m, in \u001b[0;36m_minimize_neldermead\u001b[0;34m(func, x0, args, callback, maxiter, maxfev, disp, return_all, initial_simplex, xatol, fatol, adaptive, bounds, **unknown_options)\u001b[0m\n\u001b[1;32m    897\u001b[0m \u001b[39mtry\u001b[39;00m:\n\u001b[1;32m    898\u001b[0m     \u001b[39mfor\u001b[39;00m k \u001b[39min\u001b[39;00m \u001b[39mrange\u001b[39m(N \u001b[39m+\u001b[39m \u001b[39m1\u001b[39m):\n\u001b[0;32m--> 899\u001b[0m         fsim[k] \u001b[39m=\u001b[39m func(sim[k])\n\u001b[1;32m    900\u001b[0m \u001b[39mexcept\u001b[39;00m _MaxFuncCallError:\n\u001b[1;32m    901\u001b[0m     \u001b[39mpass\u001b[39;00m\n",
            "File \u001b[0;32m~/personal/optimizers/venv/lib/python3.10/site-packages/scipy/optimize/_optimize.py:628\u001b[0m, in \u001b[0;36m_wrap_scalar_function_maxfun_validation.<locals>.function_wrapper\u001b[0;34m(x, *wrapper_args)\u001b[0m\n\u001b[1;32m    626\u001b[0m         fx \u001b[39m=\u001b[39m np\u001b[39m.\u001b[39masarray(fx)\u001b[39m.\u001b[39mitem()\n\u001b[1;32m    627\u001b[0m     \u001b[39mexcept\u001b[39;00m (\u001b[39mTypeError\u001b[39;00m, \u001b[39mValueError\u001b[39;00m) \u001b[39mas\u001b[39;00m e:\n\u001b[0;32m--> 628\u001b[0m         \u001b[39mraise\u001b[39;00m \u001b[39mValueError\u001b[39;00m(\u001b[39m\"\u001b[39m\u001b[39mThe user-provided objective function \u001b[39m\u001b[39m\"\u001b[39m\n\u001b[1;32m    629\u001b[0m                          \u001b[39m\"\u001b[39m\u001b[39mmust return a scalar value.\u001b[39m\u001b[39m\"\u001b[39m) \u001b[39mfrom\u001b[39;00m \u001b[39me\u001b[39;00m\n\u001b[1;32m    630\u001b[0m \u001b[39mreturn\u001b[39;00m fx\n",
            "\u001b[0;31mValueError\u001b[0m: The user-provided objective function must return a scalar value."
          ]
        }
      ],
      "source": [
        "# VALIDATION CODE\n",
        "\n",
        "x = np.array([4.19, 11.57, 6.69, 10.65])\n",
        "\n",
        "print(\"Objective function output, f(x) = \", f(x))\n",
        "print('Type of f(x): ', type(f(x)))\n",
        "print(\"Constraint function output, g1(x) = \", g1(x))\n",
        "print(\"Constraint function output, g2(x) = \", g2(x))\n",
        "print(\"Constraint function output, g3(x) = \", g3(x))\n",
        "print(\"Constraint function output, g4(x) = \", g4(x))\n",
        "print(\"Constraint function output, g5(x) = \", g5(x))\n",
        "print(\"Constraint function output, g6(x) = \", g6(x))\n",
        "print(\"Constraint function output, g7(x) = \", g7(x))\n",
        "\n",
        "\n",
        "# CONSTRAINT FUNCTION TESTS\n",
        "constraint_functions = {'type': 'ineq', 'fun': g1}, {'type': 'ineq', 'fun': g2}, {'type': 'ineq', 'fun': g3}, {'type': 'ineq', 'fun': g4}, {'type': 'ineq', 'fun': g5}, {'type': 'ineq', 'fun': g6}, {'type': 'ineq', 'fun': g7}\n",
        "# Optimize the function, f(x)\n",
        "optimized = sp.optimize.fmin(f, x)\n",
        "# test the random search\n",
        "best_x, best_f = random_search(f, x, seed=420, max_evals=10_000, constraint_functions=constraint_functions)\n"
      ]
    },
    {
      "cell_type": "code",
      "execution_count": 70,
      "metadata": {
        "colab": {
          "base_uri": "https://localhost:8080/"
        },
        "id": "UVUdWN4kt0zp",
        "outputId": "e173bb61-c5a0-4c42-8bdc-7fe51fe31d65"
      },
      "outputs": [
        {
          "name": "stdout",
          "output_type": "stream",
          "text": [
            "[ 5.28548324  5.4440553  13.64162918  8.75849522]\n",
            "[-332832643604.0174 -304587740059.2774 -19358832428.78391\n",
            " -73146079766.48895]\n",
            "[-1779445360.3626044 -1628437879.4686506 -103500867.33868015\n",
            " -391066966.18625265]\n",
            "-38.95290849907656\n",
            "[0.0010357371151636574 0.0010368092797427755 0.001092236121270784\n",
            " 0.0010592194389863888]\n",
            "-8.197573884806934\n",
            "[-0.0009999999229565106 -0.000999999918264335 -0.000999999486785374\n",
            " -0.0009999997884439064]\n",
            "[-186655001107.0273 -175939752025.3285 -28020547482.000023\n",
            " -67975131541.15067]\n"
          ]
        }
      ],
      "source": [
        "# TESTING, TESTING, LET'S SEE IF OUR CONSTRAINTS WERE THROUGHLY WORKING\n",
        "# You would have to run this a few times to get the desired results, this is to solely test fully randomized values\n",
        "# within search space given by our constraint functions\n",
        "\n",
        "def validate_constraints():\n",
        "    # Generate random decision vector within [1, 16]\n",
        "    decision_vector = np.random.uniform(1, 16, 4)\n",
        "    print(decision_vector)\n",
        "\n",
        "    decision_vector = np.array(decision_vector)\n",
        "    # Check each constraint\n",
        "    for g in [ g1, g2, g3, g4, g5, g6, g7]:\n",
        "        result = g(decision_vector)\n",
        "        print(result)\n",
        "        assert np.all(result <= 16), f\"Constraint {g.__name__} is not less than or equal to 16.\"\n",
        "\n",
        "validate_constraints()"
      ]
    },
    {
      "cell_type": "code",
      "execution_count": 73,
      "metadata": {
        "id": "oO1z1qoNm46U"
      },
      "outputs": [],
      "source": [
        "# Perform random search and simulated annealing simulations, 21 times\n",
        "search_results = [random_search(f, x, seed=i, constraint_functions=constraint_functions) for i in range(21)]\n"
      ]
    },
    {
      "cell_type": "code",
      "execution_count": 112,
      "metadata": {
        "colab": {
          "base_uri": "https://localhost:8080/"
        },
        "id": "ibaCRdoXYTuY",
        "outputId": "a6a2ca99-063f-4a2d-b5f7-3340972786ea"
      },
      "outputs": [
        {
          "name": "stderr",
          "output_type": "stream",
          "text": [
            "/tmp/ipykernel_13258/972318582.py:30: RuntimeWarning: overflow encountered in exp\n",
            "  if (np.isscalar(current_value) and neighbor_value < current_value) or np.random.rand() < np.exp(np.min(current_value - neighbor_value) / temperature):\n",
            "/tmp/ipykernel_13258/269987680.py:46: RuntimeWarning: invalid value encountered in log\n",
            "  return ((6e-6 * x[3] * x[0]) / (np.pi * h(x)**3)) * np.log(x[2] / x[1])\n",
            "/home/erioluwa/personal/optimizers/venv/lib/python3.10/site-packages/numpy/core/fromnumeric.py:88: RuntimeWarning: invalid value encountered in reduce\n",
            "  return ufunc.reduce(obj, axis, dtype, out, **passkwargs)\n"
          ]
        },
        {
          "name": "stdout",
          "output_type": "stream",
          "text": [
            "Best Solution: [1.58648817e+01 1.27334744e+01 9.72592838e-05 1.99069295e+01]\n",
            "Best Value: [-17951524606254.414 -34719310638631.242 -7.791456479706351e+28\n",
            " -9086550004949.05]\n"
          ]
        }
      ],
      "source": [
        "def simulated_annealing(seed, initial_solution, f, temperature_schedule = lambda t: max(0.01, 0.9**t), max_evaluations=10000):\n",
        "    \"\"\"\n",
        "    initial_solution: np.array containing the initial solution\n",
        "\n",
        "    f: objective function to be optimized\n",
        "    tenperature_schedule: function that takes the current iteration and returns the temperature\n",
        "    max_evaluations: maximum number of evaluations\n",
        "    \"\"\"\n",
        "\n",
        "    np.random.seed(seed)    # Set the random seed for reproducibility\n",
        "    current_solution = initial_solution\n",
        "    current_value = f(current_solution)\n",
        "    best_solution = current_solution\n",
        "    best_value = current_value\n",
        "\n",
        "    evaluations = 0\n",
        "\n",
        "    while evaluations < max_evaluations:\n",
        "        temperature = temperature_schedule(evaluations / max_evaluations)\n",
        "        \n",
        "        # Generate a neighboring solution\n",
        "        neighbor_solution = generate_neighbor(current_solution)\n",
        "        neighbor_value = f(neighbor_solution)\n",
        "\n",
        "        # Accept the neighbor if it's better or with a certain probability\n",
        "        #if np.all(neighbor_value < current_value) or np.random.rand() < np.exp(np.nanmin(current_value - neighbor_value) / temperature):\n",
        "        #    current_solution = neighbor_solution\n",
        "        #    current_value = neighbor_value\n",
        "\n",
        "        if (np.isscalar(current_value) and neighbor_value < current_value) or np.random.rand() < np.exp(np.min(current_value - neighbor_value) / temperature):\n",
        "            current_solution = neighbor_solution\n",
        "            current_value = neighbor_value\n",
        "        # Update the best solution if the current solution is better\n",
        "        if np.all(current_value < best_value):\n",
        "            best_solution = current_solution\n",
        "            best_value = current_value\n",
        "\n",
        "        evaluations += 1\n",
        "\n",
        "    return best_solution, best_value\n",
        "\n",
        "def generate_neighbor(current_solution):\n",
        "    # Implement how to generate a neighboring solution based on your problem\n",
        "    # For example, you can perturb the current solution randomly\n",
        "    return current_solution + np.random.normal(0, 1, len(current_solution))\n",
        "\n",
        "# Example usage:\n",
        "initial_solution = np.array([4.19, 11.57, 6.69, 10.65])  # Adjust the dimension based on your problem\n",
        "objective_function = lambda x: ((P0(x) * x[0]) / 0.7) + Ef(x) #x[0]**2 + x[1]**2  # Replace with your actual objective function\n",
        "\n",
        "# Define the temperature schedule (e.g., exponential decay)\n",
        "temperature_schedule = lambda t: max(0.01, 0.9**t)\n",
        "\n",
        "best_solution, best_value = simulated_annealing(1234, initial_solution, objective_function, temperature_schedule)\n",
        "print(\"Best Solution:\", best_solution)\n",
        "print(\"Best Value:\", best_value)\n"
      ]
    },
    {
      "cell_type": "code",
      "execution_count": null,
      "metadata": {
        "colab": {
          "base_uri": "https://localhost:8080/"
        },
        "id": "DpPSTSamX2ZW",
        "outputId": "d0478700-2595-4201-d205-2d8bbbf485e0"
      },
      "outputs": [
        {
          "name": "stdout",
          "output_type": "stream",
          "text": [
            "(-0.9891172937981292, 0.00011843329427618787)\n"
          ]
        }
      ],
      "source": [
        "sa_results = (-0.9891172937981292, 0.00011843329427618787)\n",
        "simlated_results = [simluated_annealing(1234, )(f, x, seed=i, constraint_functions=constraint_functions) for i in range(21)]\n",
        "print(sa_results)"
      ]
    },
    {
      "cell_type": "code",
      "execution_count": 74,
      "metadata": {
        "colab": {
          "base_uri": "https://localhost:8080/"
        },
        "id": "KyMiLFh_qII9",
        "outputId": "93236385-4780-48ef-e2c9-09ad5c34d5a3"
      },
      "outputs": [
        {
          "ename": "NameError",
          "evalue": "name 's' is not defined",
          "output_type": "error",
          "traceback": [
            "\u001b[0;31m---------------------------------------------------------------------------\u001b[0m",
            "\u001b[0;31mNameError\u001b[0m                                 Traceback (most recent call last)",
            "\u001b[1;32m/home/erioluwa/personal/optimizers/swarm-optimizers/XXXXXX.ipynb Cell 11\u001b[0m line \u001b[0;36m1\n\u001b[0;32m----> <a href='vscode-notebook-cell:/home/erioluwa/personal/optimizers/swarm-optimizers/XXXXXX.ipynb#X13sZmlsZQ%3D%3D?line=0'>1</a>\u001b[0m \u001b[39mprint\u001b[39m([s \u001b[39mfor\u001b[39;00m _ \u001b[39min\u001b[39;00m search_results])\n",
            "\u001b[1;32m/home/erioluwa/personal/optimizers/swarm-optimizers/XXXXXX.ipynb Cell 11\u001b[0m line \u001b[0;36m1\n\u001b[0;32m----> <a href='vscode-notebook-cell:/home/erioluwa/personal/optimizers/swarm-optimizers/XXXXXX.ipynb#X13sZmlsZQ%3D%3D?line=0'>1</a>\u001b[0m \u001b[39mprint\u001b[39m([s \u001b[39mfor\u001b[39;00m _ \u001b[39min\u001b[39;00m search_results])\n",
            "\u001b[0;31mNameError\u001b[0m: name 's' is not defined"
          ]
        }
      ],
      "source": [
        "print([s for _ in search_results])"
      ]
    },
    {
      "cell_type": "code",
      "execution_count": 20,
      "metadata": {
        "colab": {
          "base_uri": "https://localhost:8080/",
          "height": 472
        },
        "id": "CYKM8GlHVdqh",
        "outputId": "8c188caa-a48f-4f8e-ce74-aba40f1903a9"
      },
      "outputs": [
        {
          "ename": "ValueError",
          "evalue": "X must have 2 or fewer dimensions",
          "output_type": "error",
          "traceback": [
            "\u001b[0;31m---------------------------------------------------------------------------\u001b[0m",
            "\u001b[0;31mValueError\u001b[0m                                Traceback (most recent call last)",
            "\u001b[1;32m/home/erioluwa/personal/optimizers/swarm-optimizers/XXXXXX.ipynb Cell 12\u001b[0m line \u001b[0;36m1\n\u001b[1;32m     <a href='vscode-notebook-cell:/home/erioluwa/personal/optimizers/swarm-optimizers/XXXXXX.ipynb#X14sZmlsZQ%3D%3D?line=14'>15</a>\u001b[0m     ax\u001b[39m.\u001b[39mset_xlabel(\u001b[39m'\u001b[39m\u001b[39mAlgorithm\u001b[39m\u001b[39m'\u001b[39m)\n\u001b[1;32m     <a href='vscode-notebook-cell:/home/erioluwa/personal/optimizers/swarm-optimizers/XXXXXX.ipynb#X14sZmlsZQ%3D%3D?line=16'>17</a>\u001b[0m     plt\u001b[39m.\u001b[39mshow()\n\u001b[0;32m---> <a href='vscode-notebook-cell:/home/erioluwa/personal/optimizers/swarm-optimizers/XXXXXX.ipynb#X14sZmlsZQ%3D%3D?line=18'>19</a>\u001b[0m plot_graph(search_results\u001b[39m=\u001b[39;49msearch_results, sim_results\u001b[39m=\u001b[39;49msa_results)\n",
            "\u001b[1;32m/home/erioluwa/personal/optimizers/swarm-optimizers/XXXXXX.ipynb Cell 12\u001b[0m line \u001b[0;36m1\n\u001b[1;32m      <a href='vscode-notebook-cell:/home/erioluwa/personal/optimizers/swarm-optimizers/XXXXXX.ipynb#X14sZmlsZQ%3D%3D?line=7'>8</a>\u001b[0m labels \u001b[39m=\u001b[39m [\u001b[39m'\u001b[39m\u001b[39mRandom Search\u001b[39m\u001b[39m'\u001b[39m, \u001b[39m'\u001b[39m\u001b[39mSimulated Annealing\u001b[39m\u001b[39m'\u001b[39m]\n\u001b[1;32m     <a href='vscode-notebook-cell:/home/erioluwa/personal/optimizers/swarm-optimizers/XXXXXX.ipynb#X14sZmlsZQ%3D%3D?line=9'>10</a>\u001b[0m fig, ax \u001b[39m=\u001b[39m plt\u001b[39m.\u001b[39msubplots()\n\u001b[0;32m---> <a href='vscode-notebook-cell:/home/erioluwa/personal/optimizers/swarm-optimizers/XXXXXX.ipynb#X14sZmlsZQ%3D%3D?line=10'>11</a>\u001b[0m ax\u001b[39m.\u001b[39;49mboxplot(data, vert\u001b[39m=\u001b[39;49m\u001b[39mTrue\u001b[39;49;00m, patch_artist\u001b[39m=\u001b[39;49m\u001b[39mTrue\u001b[39;49;00m, labels\u001b[39m=\u001b[39;49mlabels)\n\u001b[1;32m     <a href='vscode-notebook-cell:/home/erioluwa/personal/optimizers/swarm-optimizers/XXXXXX.ipynb#X14sZmlsZQ%3D%3D?line=12'>13</a>\u001b[0m ax\u001b[39m.\u001b[39mset_title(\u001b[39m'\u001b[39m\u001b[39mOptimization Algorithm - Comparison\u001b[39m\u001b[39m'\u001b[39m)\n\u001b[1;32m     <a href='vscode-notebook-cell:/home/erioluwa/personal/optimizers/swarm-optimizers/XXXXXX.ipynb#X14sZmlsZQ%3D%3D?line=13'>14</a>\u001b[0m ax\u001b[39m.\u001b[39mset_ylabel(\u001b[39m'\u001b[39m\u001b[39mObjective Function Value\u001b[39m\u001b[39m'\u001b[39m)\n",
            "File \u001b[0;32m~/personal/optimizers/venv/lib/python3.10/site-packages/matplotlib/__init__.py:1465\u001b[0m, in \u001b[0;36m_preprocess_data.<locals>.inner\u001b[0;34m(ax, data, *args, **kwargs)\u001b[0m\n\u001b[1;32m   1462\u001b[0m \u001b[39m@functools\u001b[39m\u001b[39m.\u001b[39mwraps(func)\n\u001b[1;32m   1463\u001b[0m \u001b[39mdef\u001b[39;00m \u001b[39minner\u001b[39m(ax, \u001b[39m*\u001b[39margs, data\u001b[39m=\u001b[39m\u001b[39mNone\u001b[39;00m, \u001b[39m*\u001b[39m\u001b[39m*\u001b[39mkwargs):\n\u001b[1;32m   1464\u001b[0m     \u001b[39mif\u001b[39;00m data \u001b[39mis\u001b[39;00m \u001b[39mNone\u001b[39;00m:\n\u001b[0;32m-> 1465\u001b[0m         \u001b[39mreturn\u001b[39;00m func(ax, \u001b[39m*\u001b[39;49m\u001b[39mmap\u001b[39;49m(sanitize_sequence, args), \u001b[39m*\u001b[39;49m\u001b[39m*\u001b[39;49mkwargs)\n\u001b[1;32m   1467\u001b[0m     bound \u001b[39m=\u001b[39m new_sig\u001b[39m.\u001b[39mbind(ax, \u001b[39m*\u001b[39margs, \u001b[39m*\u001b[39m\u001b[39m*\u001b[39mkwargs)\n\u001b[1;32m   1468\u001b[0m     auto_label \u001b[39m=\u001b[39m (bound\u001b[39m.\u001b[39marguments\u001b[39m.\u001b[39mget(label_namer)\n\u001b[1;32m   1469\u001b[0m                   \u001b[39mor\u001b[39;00m bound\u001b[39m.\u001b[39mkwargs\u001b[39m.\u001b[39mget(label_namer))\n",
            "File \u001b[0;32m~/personal/optimizers/venv/lib/python3.10/site-packages/matplotlib/axes/_axes.py:3947\u001b[0m, in \u001b[0;36mAxes.boxplot\u001b[0;34m(self, x, notch, sym, vert, whis, positions, widths, patch_artist, bootstrap, usermedians, conf_intervals, meanline, showmeans, showcaps, showbox, showfliers, boxprops, labels, flierprops, medianprops, meanprops, capprops, whiskerprops, manage_ticks, autorange, zorder, capwidths)\u001b[0m\n\u001b[1;32m   3944\u001b[0m \u001b[39mif\u001b[39;00m bootstrap \u001b[39mis\u001b[39;00m \u001b[39mNone\u001b[39;00m:\n\u001b[1;32m   3945\u001b[0m     bootstrap \u001b[39m=\u001b[39m mpl\u001b[39m.\u001b[39mrcParams[\u001b[39m'\u001b[39m\u001b[39mboxplot.bootstrap\u001b[39m\u001b[39m'\u001b[39m]\n\u001b[0;32m-> 3947\u001b[0m bxpstats \u001b[39m=\u001b[39m cbook\u001b[39m.\u001b[39;49mboxplot_stats(x, whis\u001b[39m=\u001b[39;49mwhis, bootstrap\u001b[39m=\u001b[39;49mbootstrap,\n\u001b[1;32m   3948\u001b[0m                                labels\u001b[39m=\u001b[39;49mlabels, autorange\u001b[39m=\u001b[39;49mautorange)\n\u001b[1;32m   3949\u001b[0m \u001b[39mif\u001b[39;00m notch \u001b[39mis\u001b[39;00m \u001b[39mNone\u001b[39;00m:\n\u001b[1;32m   3950\u001b[0m     notch \u001b[39m=\u001b[39m mpl\u001b[39m.\u001b[39mrcParams[\u001b[39m'\u001b[39m\u001b[39mboxplot.notch\u001b[39m\u001b[39m'\u001b[39m]\n",
            "File \u001b[0;32m~/personal/optimizers/venv/lib/python3.10/site-packages/matplotlib/cbook.py:1202\u001b[0m, in \u001b[0;36mboxplot_stats\u001b[0;34m(X, whis, bootstrap, labels, autorange)\u001b[0m\n\u001b[1;32m   1199\u001b[0m bxpstats \u001b[39m=\u001b[39m []\n\u001b[1;32m   1201\u001b[0m \u001b[39m# convert X to a list of lists\u001b[39;00m\n\u001b[0;32m-> 1202\u001b[0m X \u001b[39m=\u001b[39m _reshape_2D(X, \u001b[39m\"\u001b[39;49m\u001b[39mX\u001b[39;49m\u001b[39m\"\u001b[39;49m)\n\u001b[1;32m   1204\u001b[0m ncols \u001b[39m=\u001b[39m \u001b[39mlen\u001b[39m(X)\n\u001b[1;32m   1205\u001b[0m \u001b[39mif\u001b[39;00m labels \u001b[39mis\u001b[39;00m \u001b[39mNone\u001b[39;00m:\n",
            "File \u001b[0;32m~/personal/optimizers/venv/lib/python3.10/site-packages/matplotlib/cbook.py:1412\u001b[0m, in \u001b[0;36m_reshape_2D\u001b[0;34m(X, name)\u001b[0m\n\u001b[1;32m   1410\u001b[0m     nd \u001b[39m=\u001b[39m np\u001b[39m.\u001b[39mndim(xi)\n\u001b[1;32m   1411\u001b[0m     \u001b[39mif\u001b[39;00m nd \u001b[39m>\u001b[39m \u001b[39m1\u001b[39m:\n\u001b[0;32m-> 1412\u001b[0m         \u001b[39mraise\u001b[39;00m \u001b[39mValueError\u001b[39;00m(\u001b[39mf\u001b[39m\u001b[39m'\u001b[39m\u001b[39m{\u001b[39;00mname\u001b[39m}\u001b[39;00m\u001b[39m must have 2 or fewer dimensions\u001b[39m\u001b[39m'\u001b[39m)\n\u001b[1;32m   1413\u001b[0m     result\u001b[39m.\u001b[39mappend(xi\u001b[39m.\u001b[39mreshape(\u001b[39m-\u001b[39m\u001b[39m1\u001b[39m))\n\u001b[1;32m   1415\u001b[0m \u001b[39mif\u001b[39;00m is_1d:\n\u001b[1;32m   1416\u001b[0m     \u001b[39m# 1D array of scalars: directly return it.\u001b[39;00m\n",
            "\u001b[0;31mValueError\u001b[0m: X must have 2 or fewer dimensions"
          ]
        },
        {
          "data": {
            "image/png": "[encoded data removed]",
            "text/plain": [
              "<Figure size 640x480 with 1 Axes>"
            ]
          },
          "metadata": {},
          "output_type": "display_data"
        }
      ],
      "source": [
        "# GRAPH PLOTTING\n",
        "\n",
        "# Generic plotting method that takes in results from a\n",
        "# Simulated Annealing process and a random search and\n",
        "# plot both results on a pretty 2D-Canvas\n",
        "def plot_graph(search_results, sim_results) -> None:\n",
        "    \"\"\"\n",
        "    A box plot showing performances of the competing optimisers (the random search and the SA method) over 21 repetitions.\n",
        "    \"\"\"\n",
        "    data = [search_results, sim_results]\n",
        "    labels = ['Random Search', 'Simulated Annealing']\n",
        "\n",
        "    fig, ax = plt.subplots()\n",
        "    #ax.boxplot(data, vert=True, patch_artist=True, labels=labels)\n",
        "\n",
        "    #ax.set_title('Optimization Algorithm - Comparison')\n",
        "    #ax.set_ylabel('Objective Function Value')\n",
        "    #ax.set_xlabel('Algorithm')\n",
        "\n",
        "    plt.show()\n",
        "\n",
        "plot_graph(search_results=search_results, sim_results=sa_results)"
      ]
    }
  ],
  "metadata": {
    "colab": {
      "authorship_tag": "ABX9TyPxhkqtnmIDabfywLr9Twvm",
      "include_colab_link": true,
      "provenance": []
    },
    "kernelspec": {
      "display_name": "Python 3",
      "name": "python3"
    },
    "language_info": {
      "codemirror_mode": {
        "name": "ipython",
        "version": 3
      },
      "file_extension": ".py",
      "mimetype": "text/x-python",
      "name": "python",
      "nbconvert_exporter": "python",
      "pygments_lexer": "ipython3",
      "version": "3.10.12"
    }
  },
  "nbformat": 4,
  "nbformat_minor": 0
}
