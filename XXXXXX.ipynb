{
  "nbformat": 4,
  "nbformat_minor": 0,
  "metadata": {
    "colab": {
      "provenance": [],
      "authorship_tag": "ABX9TyNj0BWJ0fzf51GVBU6eg8UV",
      "include_colab_link": true
    },
    "kernelspec": {
      "name": "python3",
      "display_name": "Python 3"
    },
    "language_info": {
      "name": "python"
    }
  },
  "cells": [
    {
      "cell_type": "markdown",
      "metadata": {
        "id": "view-in-github",
        "colab_type": "text"
      },
      "source": [
        "<a href=\"https://colab.research.google.com/github/50-Course/swarm-optimizers/blob/main/XXXXXX.ipynb\" target=\"_parent\"><img src=\"https://colab.research.google.com/assets/colab-badge.svg\" alt=\"Open In Colab\"/></a>"
      ]
    },
    {
      "cell_type": "code",
      "execution_count": 6,
      "metadata": {
        "id": "JNsCkwwgVZdv"
      },
      "outputs": [],
      "source": [
        "# DEPENDENCIES\n",
        "import numpy as np\n",
        "import matplotlib.pyplot as plt\n",
        "\n",
        "from fractions import Fraction\n",
        "import math"
      ]
    },
    {
      "cell_type": "code",
      "source": [
        "# FUNCTION IMPLEMENTATIONS\n",
        "\n",
        "# Arguments:\n",
        "# x: A numpy array (decision vector) containing the following variables:\n",
        "#     x[0]: The tensile space.\n",
        "#     x[1]: The oil pressure.\n",
        "#     x[2]: The oil temperature rise.\n",
        "#     x[3]: The oil film thickness.\n",
        "#     x[4]: The step radius.\n",
        "#     x[5]: The recess radius.\n",
        "#     x[6]: The viscosity of the oil.\n",
        "#     x[7]: The contact pressure.\n",
        "\n",
        "def P(x):\n",
        "  return (np.log10(np.log10(8.122 * x[3] + 0.8)) - 10.04) / -3.55\n",
        "\n",
        "def W(x):\n",
        "  \"\"\"Calculates the load carrying capacity.\n",
        "\n",
        "  Args:\n",
        "    x: A\n",
        "      x[0]: The inlet pressure.\n",
        "      x[1]: The outlet pressure.\n",
        "      x[2]: The oil thickness.\n",
        "      x[3]: The viscosity of the oil.\n",
        "\n",
        "  Returns:\n",
        "    The load carrying capacity.\n",
        "  \"\"\"\n",
        "\n",
        "  return (np.pi * P0(x) / 2) * ((x[3]**2 - x[2]**2) / np.log(x[2] / x[1]))\n",
        "\n",
        "def P0(x):\n",
        "  \"\"\"Calculates the inlet pressure.\n",
        "\n",
        "  Args:\n",
        "    x: A NumPy array containing the following variables:\n",
        "      x[0]: The inlet pressure.\n",
        "      x[1]: The outlet pressure.\n",
        "      x[2]: The oil thickness.\n",
        "      x[3]: The viscosity of the oil.\n",
        "\n",
        "  Returns:\n",
        "    The inlet pressure.\n",
        "  \"\"\"\n",
        "  return ((6e-6 * x[3] * x[0]) / (np.pi * h(x)**3)) * np.log(x[2] / x[1])\n",
        "\n",
        "def Ef(x):\n",
        "  \"\"\"Calculates the friction loss.\n",
        "\n",
        "  Args:\n",
        "    x: A NumPy array containing the following variables:\n",
        "      x[0]: The inlet pressure.\n",
        "      x[1]: The outlet pressure.\n",
        "      x[2]: The oil thickness.\n",
        "      x[3]: The viscosity of the oil.\n",
        "\n",
        "  Returns:\n",
        "    The friction loss.\n",
        "  \"\"\"\n",
        "\n",
        "  return 143.308 * delta_t(x)*x[0]\n",
        "\n",
        "def delta_t(x):\n",
        "  return 2 * (np.power(10, P(x)) - 560)\n",
        "\n",
        "def f(x):\n",
        "\n",
        "  minimums = np.minimum(((P0(x) * x[0] / 0.7) + Ef(x)), x)\n",
        "  print(f'Minimums: {minimums}')\n",
        "  return minimums\n",
        "\n",
        "\n",
        "def h(x):\n",
        "  \"\"\"Calculates the oil thickness.\n",
        "\n",
        "  Args:\n",
        "    x: A NumPy array containing the following variables:\n",
        "      x[0]: The inlet pressure.\n",
        "      x[1]: The outlet pressure.\n",
        "      x[2]: The oil thickness.\n",
        "      x[3]: The viscosity of the oil.\n",
        "\n",
        "  Returns:\n",
        "    The oil thickness.\n",
        "  \"\"\"\n",
        "\n",
        "  return ((1500 * np.pi / 60)**2) * (2e-6 * np.pi * x[3] / Ef(x)) * ((x*Fraction(4, 3) / 4) - (x*Fraction(4, 2) / 4))\n",
        "\n",
        "def g1(x):\n",
        "  \"\"\"Calculates the first constraint function.\"\"\"\n",
        "  return 101000 - W(x)\n",
        "\n",
        "def g2(x):\n",
        "  \"\"\"Calculates the second constraint function.\"\"\"\n",
        "  return P0(x) - 1000\n",
        "\n",
        "def g3(x):\n",
        "  \"\"\"Calculates the third constraint function.\"\"\"\n",
        "  return delta_t(x) - 50 <= 0\n",
        "\n",
        "def g4(x):\n",
        "  \"\"\"Calculates the fourth constraint function.\"\"\"\n",
        "  return 0.001 - h(x)\n",
        "\n",
        "def g5(x):\n",
        "  \"\"\"Calculates the fifth constraint function.\"\"\"\n",
        "  return x[1] - x[2]\n",
        "\n",
        "def g6(x):\n",
        "  \"\"\"Calculates the sixth constraint function.\"\"\"\n",
        "  return ((0.0307 * x[0]) / (772.8 * np.pi * P0(x) * h(x) * x[2])) - 0.001\n",
        "\n",
        "def g7(x):\n",
        "  \"\"\"Calculates the seventh constraint function.\"\"\"\n",
        "\n",
        "  return (W(x) / np.pi * (x*Fraction(2, 3) - x*Fraction(2, 2))) - 5000"
      ],
      "metadata": {
        "id": "9Q3ubMpOVdK9"
      },
      "execution_count": 18,
      "outputs": []
    },
    {
      "cell_type": "code",
      "source": [
        "# RANDOM SEARCH IMPLEMENTATION\n",
        "def random_search(f, x_array, seed=np.random.seed(48), lb=1, ub=16, max_evals=10_000, constraint_functions=[]):\n",
        "    \"\"\"\n",
        "    f: objective function to be optimized\n",
        "    seed: random seed for reproducibility\n",
        "    lb: lower bound of our search space\n",
        "    ub: upper bound of our search space\n",
        "    max_evals: maximum number of evaluations\n",
        "    \"\"\"\n",
        "\n",
        "    np.random.seed(seed)\n",
        "\n",
        "    best_x = None\n",
        "    best_f = np.inf\n",
        "\n",
        "    # Ensure we working with array at all times (just a little safeguard)\n",
        "    search_space = np.array(x_array)\n",
        "    print(f'search_space: {search_space}')\n",
        "\n",
        "    evals = 0 # number of evaluations\n",
        "\n",
        "    # loop until max_evals\n",
        "    while evals < max_evals:\n",
        "        # generate random x\n",
        "        x = np.random.uniform(search_space)\n",
        "\n",
        "        x = np.clip(x, lb, ub)\n",
        "        #x = np.random.uniform(search_space[0], search_space[1])\n",
        "        # evaluate f at x\n",
        "\n",
        "\n",
        "        # check if constraint is satisfied\n",
        "        constraints = [g(x) for g in constraint_functions]\n",
        "        if all(c<= 0 for c in constraint_functions):\n",
        "          fx = f(x)\n",
        "\n",
        "          # update best_x and best_f if necessary\n",
        "          if fx < best_f:\n",
        "              best_x = x\n",
        "              best_f = fx\n",
        "          # increment evals\n",
        "          evals += 1\n",
        "\n",
        "    return best_x, best_f\n"
      ],
      "metadata": {
        "id": "5gR82V3BVdOL"
      },
      "execution_count": 24,
      "outputs": []
    },
    {
      "cell_type": "code",
      "source": [
        "# SIMULATED ANNEALING IMPLEMENTATION"
      ],
      "metadata": {
        "id": "N176Tq_BWd4f"
      },
      "execution_count": null,
      "outputs": []
    },
    {
      "cell_type": "code",
      "source": [
        "# VALIDATION CODE\n",
        "\n",
        "x = np.array([4.19, 11.57, 6.69, 10.65])\n",
        "\n",
        "print(\"Objective function output, f(x) = \", f(x))\n",
        "print(\"Objective function output, g1(x) = \", g1(x))\n",
        "print(\"Objective function output, g2(x) = \", g2(x))\n",
        "print(\"Objective function output, g3(x) = \", g3(x))\n",
        "print(\"Objective function output, g4(x) = \", g4(x))\n",
        "print(\"Objective function output, g5(x) = \", g5(x))\n",
        "print(\"Objective function output, g6(x) = \", g6(x))\n",
        "print(\"Objective function output, g7(x) = \", g7(x))\n",
        "\n",
        "constraint_functions = [g1, g2, g3, g4, g5, g6, g7]\n",
        "# test the random search\n",
        "best_x, best_f = random_search(f, x, seed=420, max_evals=10_000, constraint_functions=constraint_functions)\n"
      ],
      "metadata": {
        "colab": {
          "base_uri": "https://localhost:8080/",
          "height": 653
        },
        "id": "aFmcSLbSVdU-",
        "outputId": "6b4a9738-b270-42e4-b3f1-6fce91a73a89"
      },
      "execution_count": 25,
      "outputs": [
        {
          "output_type": "stream",
          "name": "stdout",
          "text": [
            "Minimums: [-66258374.6794144 -3148598.097346256 -16279475.07768886\n",
            " -4036587.029849999]\n",
            "Objective function output, f(x) =  [-66258374.6794144 -3148598.097346256 -16279475.07768886\n",
            " -4036587.029849999]\n",
            "Objective function output, g1(x) =  [-2179384118.4763093 -103412239.44704632 -535347398.0628562\n",
            " -132622294.57011858]\n",
            "Objective function output, g2(x) =  [-11070120.148375956 -526720.7193908262 -2720423.317538755\n",
            " -675072.0923628119]\n",
            "Objective function output, g3(x) =  True\n",
            "Objective function output, g4(x) =  [0.0008384308579466824 0.0005538532282680466 0.0007420292218766839\n",
            " 0.0005893290303418061]\n",
            "Objective function output, g5(x) =  4.88\n",
            "Objective function output, g6(x) =  [-0.0010000044283075384 -0.0010000337657535443 -0.0010000112891687231\n",
            " -0.001000028609412784]\n",
            "Objective function output, g7(x) =  [-968944818.4687054 -127079418.6640295 -380082896.57763827\n",
            " -149982335.59936023]\n",
            "search_space: [ 4.19 11.57  6.69 10.65]\n"
          ]
        },
        {
          "output_type": "error",
          "ename": "TypeError",
          "evalue": "ignored",
          "traceback": [
            "\u001b[0;31m---------------------------------------------------------------------------\u001b[0m",
            "\u001b[0;31mTypeError\u001b[0m                                 Traceback (most recent call last)",
            "\u001b[0;32m<ipython-input-25-3150b6a975d7>\u001b[0m in \u001b[0;36m<cell line: 16>\u001b[0;34m()\u001b[0m\n\u001b[1;32m     14\u001b[0m \u001b[0mconstraint_functions\u001b[0m \u001b[0;34m=\u001b[0m \u001b[0;34m[\u001b[0m\u001b[0mg1\u001b[0m\u001b[0;34m,\u001b[0m \u001b[0mg2\u001b[0m\u001b[0;34m,\u001b[0m \u001b[0mg3\u001b[0m\u001b[0;34m,\u001b[0m \u001b[0mg4\u001b[0m\u001b[0;34m,\u001b[0m \u001b[0mg5\u001b[0m\u001b[0;34m,\u001b[0m \u001b[0mg6\u001b[0m\u001b[0;34m,\u001b[0m \u001b[0mg7\u001b[0m\u001b[0;34m]\u001b[0m\u001b[0;34m\u001b[0m\u001b[0;34m\u001b[0m\u001b[0m\n\u001b[1;32m     15\u001b[0m \u001b[0;31m# test the random search\u001b[0m\u001b[0;34m\u001b[0m\u001b[0;34m\u001b[0m\u001b[0m\n\u001b[0;32m---> 16\u001b[0;31m \u001b[0mbest_x\u001b[0m\u001b[0;34m,\u001b[0m \u001b[0mbest_f\u001b[0m \u001b[0;34m=\u001b[0m \u001b[0mrandom_search\u001b[0m\u001b[0;34m(\u001b[0m\u001b[0mf\u001b[0m\u001b[0;34m,\u001b[0m \u001b[0mx\u001b[0m\u001b[0;34m,\u001b[0m \u001b[0mseed\u001b[0m\u001b[0;34m=\u001b[0m\u001b[0;36m420\u001b[0m\u001b[0;34m,\u001b[0m \u001b[0mmax_evals\u001b[0m\u001b[0;34m=\u001b[0m\u001b[0;36m10_000\u001b[0m\u001b[0;34m,\u001b[0m \u001b[0mconstraint_functions\u001b[0m\u001b[0;34m=\u001b[0m\u001b[0mconstraint_functions\u001b[0m\u001b[0;34m)\u001b[0m\u001b[0;34m\u001b[0m\u001b[0;34m\u001b[0m\u001b[0m\n\u001b[0m",
            "\u001b[0;32m<ipython-input-24-3eb66ee6cb2e>\u001b[0m in \u001b[0;36mrandom_search\u001b[0;34m(f, x_array, seed, lb, ub, max_evals, constraint_functions)\u001b[0m\n\u001b[1;32m     32\u001b[0m         \u001b[0;31m# check if constraint is satisfied\u001b[0m\u001b[0;34m\u001b[0m\u001b[0;34m\u001b[0m\u001b[0m\n\u001b[1;32m     33\u001b[0m         \u001b[0mconstraints\u001b[0m \u001b[0;34m=\u001b[0m \u001b[0;34m[\u001b[0m\u001b[0mg\u001b[0m\u001b[0;34m(\u001b[0m\u001b[0mx\u001b[0m\u001b[0;34m)\u001b[0m \u001b[0;32mfor\u001b[0m \u001b[0mg\u001b[0m \u001b[0;32min\u001b[0m \u001b[0mconstraint_functions\u001b[0m\u001b[0;34m]\u001b[0m\u001b[0;34m\u001b[0m\u001b[0;34m\u001b[0m\u001b[0m\n\u001b[0;32m---> 34\u001b[0;31m         \u001b[0;32mif\u001b[0m \u001b[0mall\u001b[0m\u001b[0;34m(\u001b[0m\u001b[0mc\u001b[0m\u001b[0;34m<=\u001b[0m \u001b[0;36m0\u001b[0m \u001b[0;32mfor\u001b[0m \u001b[0mc\u001b[0m \u001b[0;32min\u001b[0m \u001b[0mconstraint_functions\u001b[0m\u001b[0;34m)\u001b[0m\u001b[0;34m:\u001b[0m\u001b[0;34m\u001b[0m\u001b[0;34m\u001b[0m\u001b[0m\n\u001b[0m\u001b[1;32m     35\u001b[0m           \u001b[0mfx\u001b[0m \u001b[0;34m=\u001b[0m \u001b[0mf\u001b[0m\u001b[0;34m(\u001b[0m\u001b[0mx\u001b[0m\u001b[0;34m)\u001b[0m\u001b[0;34m\u001b[0m\u001b[0;34m\u001b[0m\u001b[0m\n\u001b[1;32m     36\u001b[0m \u001b[0;34m\u001b[0m\u001b[0m\n",
            "\u001b[0;32m<ipython-input-24-3eb66ee6cb2e>\u001b[0m in \u001b[0;36m<genexpr>\u001b[0;34m(.0)\u001b[0m\n\u001b[1;32m     32\u001b[0m         \u001b[0;31m# check if constraint is satisfied\u001b[0m\u001b[0;34m\u001b[0m\u001b[0;34m\u001b[0m\u001b[0m\n\u001b[1;32m     33\u001b[0m         \u001b[0mconstraints\u001b[0m \u001b[0;34m=\u001b[0m \u001b[0;34m[\u001b[0m\u001b[0mg\u001b[0m\u001b[0;34m(\u001b[0m\u001b[0mx\u001b[0m\u001b[0;34m)\u001b[0m \u001b[0;32mfor\u001b[0m \u001b[0mg\u001b[0m \u001b[0;32min\u001b[0m \u001b[0mconstraint_functions\u001b[0m\u001b[0;34m]\u001b[0m\u001b[0;34m\u001b[0m\u001b[0;34m\u001b[0m\u001b[0m\n\u001b[0;32m---> 34\u001b[0;31m         \u001b[0;32mif\u001b[0m \u001b[0mall\u001b[0m\u001b[0;34m(\u001b[0m\u001b[0mc\u001b[0m\u001b[0;34m<=\u001b[0m \u001b[0;36m0\u001b[0m \u001b[0;32mfor\u001b[0m \u001b[0mc\u001b[0m \u001b[0;32min\u001b[0m \u001b[0mconstraint_functions\u001b[0m\u001b[0;34m)\u001b[0m\u001b[0;34m:\u001b[0m\u001b[0;34m\u001b[0m\u001b[0;34m\u001b[0m\u001b[0m\n\u001b[0m\u001b[1;32m     35\u001b[0m           \u001b[0mfx\u001b[0m \u001b[0;34m=\u001b[0m \u001b[0mf\u001b[0m\u001b[0;34m(\u001b[0m\u001b[0mx\u001b[0m\u001b[0;34m)\u001b[0m\u001b[0;34m\u001b[0m\u001b[0;34m\u001b[0m\u001b[0m\n\u001b[1;32m     36\u001b[0m \u001b[0;34m\u001b[0m\u001b[0m\n",
            "\u001b[0;31mTypeError\u001b[0m: '<=' not supported between instances of 'function' and 'int'"
          ]
        }
      ]
    },
    {
      "cell_type": "code",
      "source": [
        "# GRAPH PLOTTING\n",
        "\n",
        "# Generic plotting method that takes in results from a\n",
        "# Simulated Annealing process and a random search and\n",
        "# plot both results on a pretty 2D-Canvas\n",
        "def create_box_plot(search_results, sim_results) -> None:\n",
        "    data = [search_results, sim_results]\n",
        "    labels = ['Random Search', 'Simulated Annealing']\n",
        "\n",
        "    fig, ax = plt.subplots()\n",
        "    ax.boxplot(data, vert=True, patch_artist=True, labels=labels)\n",
        "\n",
        "    ax.set_title('Optimization Algorithm - Comparison')\n",
        "    ax.set_ylabel('Objective Function Value')\n",
        "    ax.set_xlabel('Algorithm')\n",
        "\n",
        "    plt.show()"
      ],
      "metadata": {
        "id": "CYKM8GlHVdqh"
      },
      "execution_count": 1,
      "outputs": []
    }
  ]
}