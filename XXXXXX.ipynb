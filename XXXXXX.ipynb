{
  "cells": [
    {
      "cell_type": "markdown",
      "metadata": {
        "colab_type": "text",
        "id": "view-in-github"
      },
      "source": [
        "<a href=\"https://colab.research.google.com/github/50-Course/swarm-optimizers/blob/main/XXXXXX.ipynb\" target=\"_parent\"><img src=\"https://colab.research.google.com/assets/colab-badge.svg\" alt=\"Open In Colab\"/></a>"
      ]
    },
    {
      "cell_type": "code",
      "execution_count": 232,
      "metadata": {
        "id": "JNsCkwwgVZdv"
      },
      "outputs": [],
      "source": [
        "# DEPENDENCIES\n",
        "import numpy as np\n",
        "import scipy as sp\n",
        "import matplotlib.pyplot as plt\n",
        "\n",
        "from fractions import Fraction\n",
        "import math"
      ]
    },
    {
      "cell_type": "code",
      "execution_count": 233,
      "metadata": {
        "id": "9Q3ubMpOVdK9"
      },
      "outputs": [],
      "source": [
        "# FUNCTION IMPLEMENTATIONS\n",
        "\n",
        "def P(x):\n",
        "  return np.min((np.log10(np.log10(8.122 * x[3] + 0.8)) - 10.04) / -3.55)\n",
        "\n",
        "def W(x):\n",
        "  \"\"\"Calculates the load carrying capacity.\n",
        "\n",
        "  Args:\n",
        "    decision vector x=(Q,Ro,Rs,μ), where x==[x0,x1,x2,x3],:\n",
        "\n",
        "      Q; is the flow rate\n",
        "      Ro: is the recess radius\n",
        "      Rs: is the bearing step radius\n",
        "      μ: is the viscosity of the fluid\n",
        "\n",
        "\n",
        "\n",
        "  Returns:\n",
        "    The load carrying capacity.\n",
        "  \"\"\"\n",
        "\n",
        "  return np.min((np.pi * P0(x) / 2) * (x * (2/3) - x * (2/2) / np.log(x[2] / x[1])))\n",
        "\n",
        "def P0(x):\n",
        "  \"\"\"Calculates the inlet pressure.\n",
        "\n",
        " Args:\n",
        "    decision vector x=(Q,Ro,Rs,μ), where x==[x0,x1,x2,x3],:\n",
        "\n",
        "      Q; is the flow rate\n",
        "      Ro: is the recess radius\n",
        "      Rs: is the bearing step radius\n",
        "      μ: is the viscosity of the fluid\n",
        "\n",
        "  Returns:\n",
        "    The inlet pressure.\n",
        "  \"\"\"\n",
        "  return np.min(((6e-6 * x[3] * x[0]) / (np.pi * h(x)**3)) * np.log(x[2] / x[1]))\n",
        "\n",
        "def Ef(x):\n",
        "  \"\"\"Calculates the friction loss.\n",
        "\n",
        "Args:\n",
        "    decision vector x=(Q,Ro,Rs,μ), where x==[x0,x1,x2,x3],:\n",
        "\n",
        "      Q; is the flow rate\n",
        "      Ro: is the recess radius\n",
        "      Rs: is the bearing step radius\n",
        "      μ: is the viscosity of the fluid\n",
        "\n",
        "  Returns:\n",
        "    The friction loss.\n",
        "  \"\"\"\n",
        "  return np.min(143.308 * delta_t(x)*x[0])\n",
        "\n",
        "def delta_t(x):\n",
        "  return np.min(2 * (np.power(10, P(x)) - 560))\n",
        "\n",
        "\n",
        "def f(x):\n",
        "  \"\"\"Computes the operational power loss of a cylindrical hydrostatic thrust bearing.\n",
        "\n",
        "  Args:\n",
        "    x: A decision vector containing the flow rate, recess radius, bearing step radius, and fluid viscosity.\n",
        "\n",
        "  Returns:\n",
        "    The operational power loss.\n",
        "  \"\"\"\n",
        "  \n",
        "  return np.min(((P0(x) * x[0]) / 0.7) + Ef(x))\n",
        "\n",
        "\n",
        "def h(x):\n",
        "  \"\"\"Calculates the oil thickness.\n",
        "\n",
        "  Args:\n",
        "    decision vector x=(Q,Ro,Rs,μ), where x==[x0,x1,x2,x3],:\n",
        "\n",
        "      Q; is the flow rate\n",
        "      Ro: is the recess radius\n",
        "      Rs: is the bearing step radius\n",
        "      μ: is the viscosity of the fluid\n",
        "\n",
        "  Returns:\n",
        "    The oil thickness.\n",
        "  \"\"\"\n",
        "  return np.min(((1500 * np.pi / 60)**2) * (2e-6 * np.pi * x[3] / Ef(x)) * ((x*Fraction(4, 3) / 4) - (x*Fraction(4, 2) / 4)))\n",
        "\n",
        "def g1(x):\n",
        "  \"\"\"Calculates the first constraint function.\"\"\"\n",
        "  return 101000 - W(x)\n",
        "\n",
        "def g2(x):\n",
        "  \"\"\"Calculates the second constraint function.\"\"\"\n",
        "  return P0(x) - 1000\n",
        "\n",
        "def g3(x):\n",
        "  \"\"\"Calculates the third constraint function.\"\"\"\n",
        "  return delta_t(x) - 50\n",
        "\n",
        "def g4(x):\n",
        "  \"\"\"Calculates the fourth constraint function.\"\"\"\n",
        "  return 0.001 - h(x)\n",
        "\n",
        "def g5(x):\n",
        "  \"\"\"Calculates the fifth constraint function.\"\"\"\n",
        "  return x[1] - x[2]\n",
        "\n",
        "def g6(x):\n",
        "  \"\"\"Calculates the sixth constraint function.\"\"\"\n",
        "  return ((0.0307 * x[0]) / (772.8 * np.pi * P0(x) * h(x) * x[2])) - 0.001\n",
        "\n",
        "def g7(x):\n",
        "  \"\"\"Calculates the seventh constraint function.\"\"\"\n",
        "  #return (W(x) / np.pi * (x * 2 / 3 - x * 2 / 2)) - 5000\n",
        "  return np.min((W(x) / np.pi * (x*Fraction(2, 3) - x*Fraction(2, 2))) - 5000)"
      ]
    },
    {
      "cell_type": "code",
      "execution_count": 234,
      "metadata": {
        "id": "5gR82V3BVdOL"
      },
      "outputs": [],
      "source": [
        "# RANDOM SEARCH IMPLEMENTATION\n",
        "def random_search(f, x_array, seed=np.random.seed(48), lb=1, ub=16, max_evals=10_000, constraint_functions=[]):\n",
        "    \"\"\"\n",
        "    f: objective function to be optimized\n",
        "    seed: random seed for reproducibility\n",
        "    lb: lower bound of our search space\n",
        "    ub: upper bound of our search space\n",
        "    max_evals: maximum number of evaluations\n",
        "    \"\"\"\n",
        "\n",
        "    np.random.seed(seed)\n",
        "\n",
        "    best_x = None\n",
        "    best_f = np.inf\n",
        "\n",
        "    # Ensure we working with array at all times (just a little safeguard)\n",
        "    search_space = np.array(x_array)\n",
        "\n",
        "    evals = 0 # number of evaluations\n",
        "\n",
        "    # loop until max_evals\n",
        "    while evals < max_evals:\n",
        "        # generate random x\n",
        "        x = np.random.uniform(search_space, size=len(x_array))\n",
        "\n",
        "        x = np.clip(x, lb, ub)\n",
        "\n",
        "        # check if constraint is satisfied\n",
        "        constraints = [g(x) for g in constraint_functions]\n",
        "        if np.all(c<= 0 for c in constraints):\n",
        "          fx = f(x)\n",
        "\n",
        "          # update best_x and best_f if necessary\n",
        "          if np.all(fx < best_f):\n",
        "              best_x = x\n",
        "              best_f = fx\n",
        "          # increment evals\n",
        "          evals += 1\n",
        "\n",
        "    return best_x, best_f\n"
      ]
    },
    {
      "cell_type": "code",
      "execution_count": 250,
      "metadata": {
        "colab": {
          "base_uri": "https://localhost:8080/"
        },
        "id": "aFmcSLbSVdU-",
        "outputId": "c7c716ff-a84c-4cc8-f98d-b7c744b4f9f2"
      },
      "outputs": [
        {
          "name": "stderr",
          "output_type": "stream",
          "text": [
            "/tmp/ipykernel_13258/3914169473.py:39: RuntimeWarning: invalid value encountered in log\n",
            "  return np.min(((6e-6 * x[3] * x[0]) / (np.pi * h(x)**3)) * np.log(x[2] / x[1]))\n",
            "/tmp/ipykernel_13258/3914169473.py:39: RuntimeWarning: invalid value encountered in log\n",
            "  return np.min(((6e-6 * x[3] * x[0]) / (np.pi * h(x)**3)) * np.log(x[2] / x[1]))\n",
            "/tmp/ipykernel_13258/3914169473.py:39: RuntimeWarning: invalid value encountered in log\n",
            "  return np.min(((6e-6 * x[3] * x[0]) / (np.pi * h(x)**3)) * np.log(x[2] / x[1]))\n"
          ]
        },
        {
          "name": "stdout",
          "output_type": "stream",
          "text": [
            "Objective function output, f(x) =  -66258374.6794144\n",
            "Constraint function output, g1(x) =  501449385.8788636\n",
            "Constraint function output, g2(x) =  -11070120.148375956\n",
            "Constraint function output, g3(x) =  -52.97118117373543\n",
            "Constraint function output, g4(x) =  0.0008384308579466824\n",
            "Constraint function output, g5(x) =  4.88\n",
            "Constraint function output, g6(x) =  -0.0010000044283075384\n",
            "Constraint function output, g7(x) =  222880859.54771447\n",
            "Random search global maxima: -3156328845425002.5\n",
            "Random search optimal objective value: [4.00649919 1.93372623 5.14877319 1.00979699]\n"
          ]
        }
      ],
      "source": [
        "# VALIDATION CODE\n",
        "\n",
        "x = np.array([4.19, 11.57, 6.69, 10.65])\n",
        "# CONSTRAINT FUNCTION TESTS\n",
        "#constraint_functions = {'type': 'ineq', 'fun': g1}, {'type': 'ineq', 'fun': g2}, {'type': 'ineq', 'fun': g3}, {'type': 'ineq', 'fun': g4}, {'type': 'ineq', 'fun': g5}, {'type': 'ineq', 'fun': g6}, {'type': 'ineq', 'fun': g7}\n",
        "constraint_functions = [g1, g2, g3, g4, g5, g6, g7]\n",
        "# Optimize the function, f(x)\n",
        "#sp.optimize.fmin(f, x)\n",
        "# Optimize the function, f(x), with constraints\n",
        "sp.optimize.minimize(f, x)\n",
        "\n",
        "print(\"Objective function output, f(x) = \", f(x))\n",
        "print(\"Constraint function output, g1(x) = \", g1(x))\n",
        "print(\"Constraint function output, g2(x) = \", g2(x))\n",
        "print(\"Constraint function output, g3(x) = \", g3(x))\n",
        "print(\"Constraint function output, g4(x) = \", g4(x))\n",
        "print(\"Constraint function output, g5(x) = \", g5(x))\n",
        "print(\"Constraint function output, g6(x) = \", g6(x))\n",
        "print(\"Constraint function output, g7(x) = \", g7(x))\n",
        "\n",
        "# test the random search\n",
        "best_x, best_f = random_search(f, x, seed=420, max_evals=10_000, constraint_functions=constraint_functions)\n",
        "\n",
        "# print the results\n",
        "print(f'Random search global maxima: {best_f}')\n",
        "print(f'Random search optimal objective value: {best_x}')"
      ]
    },
    {
      "cell_type": "code",
      "execution_count": 216,
      "metadata": {
        "id": "oO1z1qoNm46U"
      },
      "outputs": [],
      "source": [
        "# Perform random search and simulated annealing simulations, 21 times\n",
        "search_results = [random_search(f, x, seed=i, constraint_functions=constraint_functions) for i in range(21)]\n"
      ]
    },
    {
      "cell_type": "code",
      "execution_count": 248,
      "metadata": {
        "colab": {
          "base_uri": "https://localhost:8080/"
        },
        "id": "ibaCRdoXYTuY",
        "outputId": "a6a2ca99-063f-4a2d-b5f7-3340972786ea"
      },
      "outputs": [
        {
          "name": "stdout",
          "output_type": "stream",
          "text": [
            "Best Solution: (4,)\n",
            "Best Value: -3.9679867366828883e+17\n"
          ]
        }
      ],
      "source": [
        "def simulated_annealing(seed, initial_solution, f, temperature_schedule = lambda t: max(0.01, 0.9**t), max_evaluations=10_000):\n",
        "    \"\"\"\n",
        "    initial_solution: np.array containing the initial solution\n",
        "\n",
        "    f: objective function to be optimized\n",
        "    tenperature_schedule: function that takes the current iteration and returns the temperature\n",
        "    max_evaluations: maximum number of evaluations\n",
        "    \"\"\"\n",
        "\n",
        "    np.random.seed(seed)    # Set the random seed for reproducibility\n",
        "    \n",
        "    current_solution = initial_solution\n",
        "    current_value = f(current_solution)\n",
        "    best_solution = current_solution\n",
        "    best_value = current_value\n",
        "\n",
        "    evaluations = 0\n",
        "\n",
        "    while evaluations < max_evaluations:\n",
        "        temperature = temperature_schedule(evaluations / max_evaluations)\n",
        "        \n",
        "        # Generate a neighboring solution\n",
        "        neighbor_solution = current_solution + np.random.uniform(1.0, 16.0, size=4)\n",
        "        neighbor_value = f(neighbor_solution)\n",
        "\n",
        "        # Accept the neighbor if it's better or with a certain probability\n",
        "        if neighbor_value < current_value or np.random.rand() < np.exp(np.nanmin(current_value - neighbor_value) / temperature):\n",
        "            current_solution = neighbor_solution\n",
        "            current_value = neighbor_value\n",
        "\n",
        "        # Update the best solution if the current solution is better\n",
        "        if current_value < best_value:\n",
        "            best_solution = current_solution\n",
        "            best_value = current_value\n",
        "\n",
        "        evaluations += 1\n",
        "\n",
        "    return best_solution, best_value\n",
        "\n",
        "\n",
        "# Example usage:\n",
        "initial_solution = np.array([4.19, 11.57, 6.69, 10.65])  # Adjust the dimension based on your problem\n",
        "objective_function = lambda x: ((P0(x) * x[0]) / 0.7) + Ef(x) #x[0]**2 + x[1]**2  # Replace with your actual objective function\n",
        "\n",
        "# Define the temperature schedule (e.g., exponential decay)\n",
        "temperature_schedule = lambda t: max(0.01, 0.9**t)\n",
        "\n",
        "best_solution, best_value = simulated_annealing(1234, x, f, temperature_schedule)\n",
        "print(\"Best Solution:\", best_solution.shape)\n",
        "print(\"Best Value:\", best_value)\n"
      ]
    },
    {
      "cell_type": "code",
      "execution_count": 255,
      "metadata": {
        "colab": {
          "base_uri": "https://localhost:8080/"
        },
        "id": "DpPSTSamX2ZW",
        "outputId": "d0478700-2595-4201-d205-2d8bbbf485e0"
      },
      "outputs": [
        {
          "ename": "ValueError",
          "evalue": "setting an array element with a sequence. The requested array has an inhomogeneous shape after 2 dimensions. The detected shape was (21, 2) + inhomogeneous part.",
          "output_type": "error",
          "traceback": [
            "\u001b[0;31m---------------------------------------------------------------------------\u001b[0m",
            "\u001b[0;31mValueError\u001b[0m                                Traceback (most recent call last)",
            "\u001b[1;32m/home/erioluwa/personal/optimizers/swarm-optimizers/XXXXXX.ipynb Cell 8\u001b[0m line \u001b[0;36m3\n\u001b[1;32m      <a href='vscode-notebook-cell:/home/erioluwa/personal/optimizers/swarm-optimizers/XXXXXX.ipynb#X12sZmlsZQ%3D%3D?line=0'>1</a>\u001b[0m \u001b[39m# Run a simulation of both algorithms 21 times\u001b[39;00m\n\u001b[1;32m      <a href='vscode-notebook-cell:/home/erioluwa/personal/optimizers/swarm-optimizers/XXXXXX.ipynb#X12sZmlsZQ%3D%3D?line=1'>2</a>\u001b[0m rs_results \u001b[39m=\u001b[39m [random_search(f, x, seed\u001b[39m=\u001b[39mi, constraint_functions\u001b[39m=\u001b[39mconstraint_functions) \u001b[39mfor\u001b[39;00m i \u001b[39min\u001b[39;00m \u001b[39mrange\u001b[39m(\u001b[39m21\u001b[39m)]\n\u001b[0;32m----> <a href='vscode-notebook-cell:/home/erioluwa/personal/optimizers/swarm-optimizers/XXXXXX.ipynb#X12sZmlsZQ%3D%3D?line=2'>3</a>\u001b[0m \u001b[39mprint\u001b[39m(\u001b[39mf\u001b[39m\u001b[39m'\u001b[39m\u001b[39mRandom search local minima: \u001b[39m\u001b[39m{\u001b[39;00mnp\u001b[39m.\u001b[39;49marray(rs_results)\u001b[39m.\u001b[39mshape\u001b[39m}\u001b[39;00m\u001b[39m'\u001b[39m)\n\u001b[1;32m      <a href='vscode-notebook-cell:/home/erioluwa/personal/optimizers/swarm-optimizers/XXXXXX.ipynb#X12sZmlsZQ%3D%3D?line=3'>4</a>\u001b[0m \u001b[39mfor\u001b[39;00m i, array \u001b[39min\u001b[39;00m \u001b[39menumerate\u001b[39m(rs_results):\n\u001b[1;32m      <a href='vscode-notebook-cell:/home/erioluwa/personal/optimizers/swarm-optimizers/XXXXXX.ipynb#X12sZmlsZQ%3D%3D?line=4'>5</a>\u001b[0m   \u001b[39mprint\u001b[39m(\u001b[39mf\u001b[39m\u001b[39m'\u001b[39m\u001b[39mRandom search local minima \u001b[39m\u001b[39m{\u001b[39;00mi\u001b[39m+\u001b[39m\u001b[39m1\u001b[39m\u001b[39m}\u001b[39;00m\u001b[39m: \u001b[39m\u001b[39m{\u001b[39;00marray\u001b[39m}\u001b[39;00m\u001b[39m'\u001b[39m)\n",
            "\u001b[0;31mValueError\u001b[0m: setting an array element with a sequence. The requested array has an inhomogeneous shape after 2 dimensions. The detected shape was (21, 2) + inhomogeneous part."
          ]
        }
      ],
      "source": [
        "# Run a simulation of both algorithms 21 times\n",
        "rs_results = [random_search(f, x, seed=i, constraint_functions=constraint_functions) for i in range(21)]\n",
        "print(f'Random search local minima: {np.array(rs_results).shape}')\n",
        "for i, array in enumerate(rs_results):\n",
        "  print(f'Random search local minima {i+1}: {array}')"
      ]
    },
    {
      "cell_type": "code",
      "execution_count": 253,
      "metadata": {},
      "outputs": [
        {
          "name": "stdout",
          "output_type": "stream",
          "text": [
            "Contents of array 1: (array([7918.92523486, 5877.41763603, 1378.54287026, 4390.50167816]), -3.748065985767343e+17)\n",
            "Contents of array 2: (array([5585.22249079, 4238.41126583,  863.80194896, 2810.16215672]), -6.203201215891716e+17)\n",
            "Contents of array 3: (array([6411.81716826, 4683.72293144, 1053.89593204, 3321.40373371]), -4.821716788944973e+17)\n",
            "Contents of array 4: (array([6261.47553451, 4664.89375671, 1061.99058012, 3086.61189257]), -4.698340818103358e+17)\n",
            "Contents of array 5: (array([6571.49620124, 5082.46881512, 1109.6296493 , 3447.31935275]), -4.4759026598380883e+17)\n",
            "Contents of array 6: (array([10891.63297648,  8508.84453617,  2449.3373433 ,  5962.46730609]), -1.670472192777424e+17)\n",
            "Contents of array 7: (array([7953.92821926, 6266.33091575, 1551.52386391, 4109.93486954]), -2.8955275359169664e+17)\n",
            "Contents of array 8: (array([8100.47209705, 6862.24850433, 4052.64140929, 1622.32528746]), -4.9321963626576666e+17)\n",
            "Contents of array 9: (array([6146.41379177, 4950.62373028, 2872.26502207, 1077.7527965 ]), -8.438799420410676e+17)\n",
            "Contents of array 10: (array([8412.19956684, 6515.94938812, 1585.80318133, 4682.58029367]), -2.9076406494816915e+17)\n",
            "Contents of array 11: (array([7396.73256613, 5504.21158179, 1287.0446442 , 3985.19806786]), -3.8701586992598304e+17)\n",
            "Contents of array 12: (array([7027.56153789, 5993.00392736, 3574.4678574 , 1310.1031166 ]), -6.381425755987451e+17)\n",
            "Contents of array 13: (array([9932.27746951, 7691.23994103, 2093.55456488, 5693.2896808 ]), -1.9088804787147594e+17)\n",
            "Contents of array 14: (array([6546.5052768 , 4909.67535168, 1098.54208378, 3477.79761826]), -4.3869820399834285e+17)\n",
            "Contents of array 15: (array([10198.94446633,  7968.81221725,  2158.68761871,  5808.73187643]), -1.9274176871652496e+17)\n",
            "Contents of array 16: (array([6537.89786967, 4786.38781013, 1124.43647928, 3348.3904378 ]), -4.191868229255645e+17)\n",
            "Contents of array 17: (array([7801.67148141, 5770.20553119, 1415.02544096, 4190.0294164 ]), -3.3763291308660205e+17)\n",
            "Contents of array 18: (array([7238.09883318, 5696.60917609, 1298.20984801, 3701.39029946]), -3.903812717754778e+17)\n",
            "Contents of array 19: (array([7291.6843034 , 6226.53085002, 3771.22376123, 1367.67664622]), -6.107350049128081e+17)\n",
            "Contents of array 20: (array([6733.8083497 , 5144.61090773, 1146.43468672, 3464.99093453]), -4.4844762563944186e+17)\n",
            "Contents of array 21: (array([9952.9748634 , 7777.19890462, 2126.45885812, 5359.08766195]), -2.0356012579712352e+17)\n"
          ]
        }
      ],
      "source": [
        "sa_results = [simulated_annealing(i, x, f, temperature_schedule) for i in range(21)]\n",
        "for i, array in enumerate(sa_results):\n",
        "    print(f\"Contents of array {i + 1}: {array}\")\n"
      ]
    },
    {
      "cell_type": "code",
      "execution_count": 226,
      "metadata": {
        "colab": {
          "base_uri": "https://localhost:8080/",
          "height": 472
        },
        "id": "CYKM8GlHVdqh",
        "outputId": "8c188caa-a48f-4f8e-ce74-aba40f1903a9"
      },
      "outputs": [
        {
          "name": "stdout",
          "output_type": "stream",
          "text": [
            "Search results: (21,)\n",
            "Sims results: (21,)\n"
          ]
        },
        {
          "data": {
            "image/png": "[encoded data removed]",
            "text/plain": [
              "<Figure size 1000x600 with 1 Axes>"
            ]
          },
          "metadata": {},
          "output_type": "display_data"
        }
      ],
      "source": [
        "# GRAPH PLOTTING\n",
        "from pprint import pprint as pprint\n",
        "#pprint(f'Search results: {search_results}')\n",
        "#pprint(f'Sims results: {simlated_results}')\n",
        "\n",
        "rs_data = search_results\n",
        "sa_data = simlated_results\n",
        "\n",
        "search_results = np.random.rand(21)\n",
        "print(f'Search results: {search_results.shape}')\n",
        "sim_results = np.random.rand(21)   \n",
        "print(f'Sims results: {sim_results.shape}')\n",
        "\n",
        "def plot_graph(search_results, sim_results) -> None:\n",
        "  \"\"\"\n",
        "  A box plot showing performances of the competing optimisers (the random search and the SA method) over 21 repetitions.\n",
        "\n",
        "  Essentially, the box plot shows the distribution of the best objective function values found by each optimiser.\n",
        "  \"\"\"\n",
        "  data = [search_results, sim_results]\n",
        "\n",
        "  plt.figure(figsize=(10, 6))\n",
        "  plt.boxplot(data, vert=True, labels=['Random Search', 'SA'])\n",
        "  plt.title('Comparison of Optimiser Performances')\n",
        "  plt.xlabel('Optimiser')\n",
        "  plt.ylabel('Algorithm')\n",
        "  plt.grid(True)\n",
        "\n",
        "  plt.show()\n",
        "\n",
        "plot_graph(search_results=search_results, sim_results=sim_results)"
      ]
    }
  ],
  "metadata": {
    "colab": {
      "authorship_tag": "ABX9TyPxhkqtnmIDabfywLr9Twvm",
      "include_colab_link": true,
      "provenance": []
    },
    "kernelspec": {
      "display_name": "Python 3",
      "name": "python3"
    },
    "language_info": {
      "codemirror_mode": {
        "name": "ipython",
        "version": 3
      },
      "file_extension": ".py",
      "mimetype": "text/x-python",
      "name": "python",
      "nbconvert_exporter": "python",
      "pygments_lexer": "ipython3",
      "version": "3.10.12"
    }
  },
  "nbformat": 4,
  "nbformat_minor": 0
}
