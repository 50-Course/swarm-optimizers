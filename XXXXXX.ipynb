{
  "nbformat": 4,
  "nbformat_minor": 0,
  "metadata": {
    "colab": {
      "provenance": [],
      "authorship_tag": "ABX9TyNYRvIYYR/EO0PuloiatOZV",
      "include_colab_link": true
    },
    "kernelspec": {
      "name": "python3",
      "display_name": "Python 3"
    },
    "language_info": {
      "name": "python"
    }
  },
  "cells": [
    {
      "cell_type": "markdown",
      "metadata": {
        "id": "view-in-github",
        "colab_type": "text"
      },
      "source": [
        "<a href=\"https://colab.research.google.com/github/50-Course/swarm-optimizers/blob/main/XXXXXX.ipynb\" target=\"_parent\"><img src=\"https://colab.research.google.com/assets/colab-badge.svg\" alt=\"Open In Colab\"/></a>"
      ]
    },
    {
      "cell_type": "code",
      "execution_count": 6,
      "metadata": {
        "id": "JNsCkwwgVZdv"
      },
      "outputs": [],
      "source": [
        "# DEPENDENCIES\n",
        "import numpy as np\n",
        "import matplotlib.pyplot as plt\n",
        "\n",
        "from fractions import Fraction\n",
        "import math"
      ]
    },
    {
      "cell_type": "code",
      "source": [
        "# FUNCTION IMPLEMENTATIONS\n",
        "\n",
        "# Arguments:\n",
        "# x: A numpy array (decision vector) containing the following variables:\n",
        "#     x[0]: The tensile space.\n",
        "#     x[1]: The oil pressure.\n",
        "#     x[2]: The oil temperature rise.\n",
        "#     x[3]: The oil film thickness.\n",
        "#     x[4]: The step radius.\n",
        "#     x[5]: The recess radius.\n",
        "#     x[6]: The viscosity of the oil.\n",
        "#     x[7]: The contact pressure.\n",
        "\n",
        "def P(x):\n",
        "  return (np.log10(np.log10(8.122 * x[3] + 0.8)) - 10.04) / -3.55\n",
        "\n",
        "def W(x):\n",
        "  \"\"\"Calculates the load carrying capacity.\n",
        "\n",
        "  Args:\n",
        "    x: A\n",
        "      x[0]: The inlet pressure.\n",
        "      x[1]: The outlet pressure.\n",
        "      x[2]: The oil thickness.\n",
        "      x[3]: The viscosity of the oil.\n",
        "\n",
        "  Returns:\n",
        "    The load carrying capacity.\n",
        "  \"\"\"\n",
        "\n",
        "  return (np.pi * P0(x) / 2) * ((x[3]**2 - x[2]**2) / np.log(x[2] / x[1]))\n",
        "\n",
        "def P0(x):\n",
        "  \"\"\"Calculates the inlet pressure.\n",
        "\n",
        "  Args:\n",
        "    x: A NumPy array containing the following variables:\n",
        "      x[0]: The inlet pressure.\n",
        "      x[1]: The outlet pressure.\n",
        "      x[2]: The oil thickness.\n",
        "      x[3]: The viscosity of the oil.\n",
        "\n",
        "  Returns:\n",
        "    The inlet pressure.\n",
        "  \"\"\"\n",
        "  return ((6e-6 * x[3] * x[0]) / (np.pi * h(x)**3)) * np.log(x[2] / x[1])\n",
        "\n",
        "def Ef(x):\n",
        "  \"\"\"Calculates the friction loss.\n",
        "\n",
        "  Args:\n",
        "    x: A NumPy array containing the following variables:\n",
        "      x[0]: The inlet pressure.\n",
        "      x[1]: The outlet pressure.\n",
        "      x[2]: The oil thickness.\n",
        "      x[3]: The viscosity of the oil.\n",
        "\n",
        "  Returns:\n",
        "    The friction loss.\n",
        "  \"\"\"\n",
        "\n",
        "  return 143.308 * delta_t(x)*x[0]\n",
        "\n",
        "def delta_t(x):\n",
        "  return 2 * (np.power(10, P(x)) - 560)\n",
        "\n",
        "def f(x):\n",
        "\n",
        "  minimums = np.minimum(((P0(x) * x[0] / 0.7) + Ef(x)), x)\n",
        "  return minimums\n",
        "\n",
        "\n",
        "def h(x):\n",
        "  \"\"\"Calculates the oil thickness.\n",
        "\n",
        "  Args:\n",
        "    x: A NumPy array containing the following variables:\n",
        "      x[0]: The inlet pressure.\n",
        "      x[1]: The outlet pressure.\n",
        "      x[2]: The oil thickness.\n",
        "      x[3]: The viscosity of the oil.\n",
        "\n",
        "  Returns:\n",
        "    The oil thickness.\n",
        "  \"\"\"\n",
        "\n",
        "  return ((1500 * np.pi / 60)**2) * (2e-6 * np.pi * x[3] / Ef(x)) * ((x*Fraction(4, 3) / 4) - (x*Fraction(4, 2) / 4))\n",
        "\n",
        "def g1(x):\n",
        "  \"\"\"Calculates the first constraint function.\"\"\"\n",
        "  return 101000 - W(x)\n",
        "\n",
        "def g2(x):\n",
        "  \"\"\"Calculates the second constraint function.\"\"\"\n",
        "  return P0(x) - 1000\n",
        "\n",
        "def g3(x):\n",
        "  \"\"\"Calculates the third constraint function.\"\"\"\n",
        "  return delta_t(x) - 50\n",
        "\n",
        "def g4(x):\n",
        "  \"\"\"Calculates the fourth constraint function.\"\"\"\n",
        "  return 0.001 - h(x)\n",
        "\n",
        "def g5(x):\n",
        "  \"\"\"Calculates the fifth constraint function.\"\"\"\n",
        "  return x[1] - x[2]\n",
        "\n",
        "def g6(x):\n",
        "  \"\"\"Calculates the sixth constraint function.\"\"\"\n",
        "  return ((0.0307 * x[0]) / (772.8 * np.pi * P0(x) * h(x) * x[2])) - 0.001\n",
        "\n",
        "def g7(x):\n",
        "  \"\"\"Calculates the seventh constraint function.\"\"\"\n",
        "\n",
        "  return (W(x) / np.pi * (x*Fraction(2, 3) - x*Fraction(2, 2))) - 5000"
      ],
      "metadata": {
        "id": "9Q3ubMpOVdK9"
      },
      "execution_count": 50,
      "outputs": []
    },
    {
      "cell_type": "code",
      "source": [
        "# RANDOM SEARCH IMPLEMENTATION\n",
        "def random_search(f, x_array, seed=np.random.seed(48), lb=1, ub=16, max_evals=10_000, constraint_functions=[]):\n",
        "    \"\"\"\n",
        "    f: objective function to be optimized\n",
        "    seed: random seed for reproducibility\n",
        "    lb: lower bound of our search space\n",
        "    ub: upper bound of our search space\n",
        "    max_evals: maximum number of evaluations\n",
        "    \"\"\"\n",
        "\n",
        "    np.random.seed(seed)\n",
        "\n",
        "    best_x = None\n",
        "    best_f = np.inf\n",
        "\n",
        "    # Ensure we working with array at all times (just a little safeguard)\n",
        "    search_space = np.array(x_array)\n",
        "\n",
        "    evals = 0 # number of evaluations\n",
        "\n",
        "    # loop until max_evals\n",
        "    while evals < max_evals:\n",
        "        # generate random x\n",
        "        x = np.random.uniform(search_space)\n",
        "\n",
        "        x = np.clip(x, lb, ub)\n",
        "\n",
        "        # check if constraint is satisfied\n",
        "        constraints = [g(x) for g in constraint_functions]\n",
        "        if np.all(c<= 0 for c in constraints):\n",
        "          fx = f(x)\n",
        "\n",
        "          # update best_x and best_f if necessary\n",
        "          if np.all(fx < best_f):\n",
        "              best_x = x\n",
        "              best_f = fx\n",
        "          # increment evals\n",
        "          evals += 1\n",
        "\n",
        "    return best_x, best_f\n"
      ],
      "metadata": {
        "id": "5gR82V3BVdOL"
      },
      "execution_count": 48,
      "outputs": []
    },
    {
      "cell_type": "code",
      "source": [
        "# SIMULATED ANNEALING IMPLEMENTATION\n",
        "\n"
      ],
      "metadata": {
        "id": "N176Tq_BWd4f"
      },
      "execution_count": null,
      "outputs": []
    },
    {
      "cell_type": "code",
      "source": [
        "# VALIDATION CODE\n",
        "\n",
        "x = np.array([4.19, 11.57, 6.69, 10.65])\n",
        "\n",
        "print(\"Objective function output, f(x) = \", f(x))\n",
        "print(\"Constraint function output, g1(x) = \", g1(x))\n",
        "print(\"Constraint function output, g2(x) = \", g2(x))\n",
        "print(\"Constraint function output, g3(x) = \", g3(x))\n",
        "print(\"Constraint function output, g4(x) = \", g4(x))\n",
        "print(\"Constraint function output, g5(x) = \", g5(x))\n",
        "print(\"Constraint function output, g6(x) = \", g6(x))\n",
        "print(\"Constraint function output, g7(x) = \", g7(x))\n",
        "\n",
        "constraint_functions = [g1, g2, g3, g4, g5, g6, g7]\n",
        "# test the random search\n",
        "best_x, best_f = random_search(f, x, seed=420, max_evals=10_000, constraint_functions=constraint_functions)\n"
      ],
      "metadata": {
        "colab": {
          "base_uri": "https://localhost:8080/"
        },
        "id": "aFmcSLbSVdU-",
        "outputId": "b64af169-41f8-47f0-b1d4-f256c7869e60"
      },
      "execution_count": 54,
      "outputs": [
        {
          "output_type": "stream",
          "name": "stdout",
          "text": [
            "Objective function output, f(x) =  [-66258374.6794144 -3148598.097346256 -16279475.07768886\n",
            " -4036587.029849999]\n",
            "Constraint function output, g1(x) =  [-2179384118.4763093 -103412239.44704632 -535347398.0628562\n",
            " -132622294.57011858]\n",
            "Constraint function output, g2(x) =  [-11070120.148375956 -526720.7193908262 -2720423.317538755\n",
            " -675072.0923628119]\n",
            "Constraint function output, g3(x) =  -52.97118117373543\n",
            "Constraint function output, g4(x) =  [0.0008384308579466824 0.0005538532282680466 0.0007420292218766839\n",
            " 0.0005893290303418061]\n",
            "Constraint function output, g5(x) =  4.88\n",
            "Constraint function output, g6(x) =  [-0.0010000044283075384 -0.0010000337657535443 -0.0010000112891687231\n",
            " -0.001000028609412784]\n",
            "Constraint function output, g7(x) =  [-968944818.4687054 -127079418.6640295 -380082896.57763827\n",
            " -149982335.59936023]\n"
          ]
        }
      ]
    },
    {
      "cell_type": "code",
      "source": [
        "# TESTING, TESTING, LET'S SEE IF OUR CONSTRAINTS WERE THROUGHLY WORKING\n",
        "# You would have to run this a few times to get the desired results, this is to solely test fully randomized values\n",
        "# within search space given by our constraint functions\n",
        "\n",
        "def validate_constraints():\n",
        "    # Generate random decision vector within [1, 16]\n",
        "    decision_vector = np.random.uniform(1, 16, 4)\n",
        "    print(decision_vector)\n",
        "\n",
        "    decision_vector = np.array(decision_vector)\n",
        "    # Check each constraint\n",
        "    for g in [ g1, g2, g3, g4, g5, g6, g7]:\n",
        "        result = g(decision_vector)\n",
        "        print(result)\n",
        "        assert np.all(result <= 16), f\"Constraint {g.__name__} is not less than or equal to 16.\"\n",
        "\n",
        "validate_constraints()"
      ],
      "metadata": {
        "colab": {
          "base_uri": "https://localhost:8080/"
        },
        "id": "UVUdWN4kt0zp",
        "outputId": "e173bb61-c5a0-4c42-8bdc-7fe51fe31d65"
      },
      "execution_count": 78,
      "outputs": [
        {
          "output_type": "stream",
          "name": "stdout",
          "text": [
            "[ 6.9215797   7.51459555 13.99021536  6.74825204]\n",
            "[-22287759575440.72 -17416675234904.268 -2699037216884.9146\n",
            " -24049619087514.85]\n",
            "[-58716799241.71787 -45883994123.84854 -7110577923.917389\n",
            " -63358394045.43703]\n",
            "-18.99480537587715\n",
            "[0.00100981058214954 0.0010106511172463305 0.0010198296000268037\n",
            " 0.0010095649091527697]\n",
            "-6.4756198089149235\n",
            "[-0.0009999999891396189 -0.0009999999871989427 -0.0009999999556306138\n",
            " -0.0009999999896767317]\n",
            "[-16368184551319.973 -13886721948150.867 -4006472463785.881\n",
            " -17219810647901.156]\n"
          ]
        }
      ]
    },
    {
      "cell_type": "code",
      "source": [
        "# Perform random search and simulated annealing simulations, 21 times\n",
        "search_results = [random_search(f, x, seed=i, constraint_functions=constraint_functions) for i in range(21)]\n"
      ],
      "metadata": {
        "colab": {
          "base_uri": "https://localhost:8080/"
        },
        "id": "oO1z1qoNm46U",
        "outputId": "9cdbd3a8-8381-4473-c91f-da5493587138"
      },
      "execution_count": 56,
      "outputs": [
        {
          "output_type": "stream",
          "name": "stdout",
          "text": [
            "[(array([4.07129679, 1.06999461, 5.12884443, 1.4608008 ]), array([-2485127103557136.0, -1.3689958442495283e+17, -1243049197536691.5,\n",
            "       -5.379896296762006e+16], dtype=object)), (array([3.03623693, 1.0880015 , 5.75665322, 1.01212254]), array([-6485521026898226.0, -1.4094944507512322e+17, -951571974269462.4,\n",
            "       -1.7508645723586557e+17], dtype=object)), (array([3.84438326, 1.13921369, 4.78684341, 1.00771266]), array([-9115171437503104.0, -3.502912472813047e+17, -4721687195543037.0,\n",
            "       -5.0609812607241043e+17], dtype=object)), (array([3.97151182, 1.1556537 , 4.02458381, 1.12688564]), array([-5419365521973813.0, -2.1995451399008234e+17, -5207785597176550.0,\n",
            "       -2.3723375706271978e+17], dtype=object)), (array([3.92989749, 1.42617711, 5.38981445, 1.03891672]), array([-7817708321276711.0, -1.635696562023054e+17, -3030412056845819.0,\n",
            "       -4.231369251851768e+17], dtype=object)), (array([3.80693754, 1.02622514, 2.14786889, 1.15282906]), array([-2690409915647804.5, -1.3734655113289734e+17,\n",
            "       -1.4980365456532092e+16, -9.68837545645924e+16], dtype=object)), (array([3.76794655, 1.0836048 , 2.99519471, 1.01537917]), array([-6018409890048803.0, -2.5303651655779728e+17,\n",
            "       -1.1981764552907236e+16, -3.075468001561681e+17], dtype=object)), (array([3.9771898 , 2.03659538, 5.04565452, 1.07235981]), array([-4817293619430596.0, -3.5877139398973548e+16, -2359280274251041.0,\n",
            "       -2.4575959783087443e+17], dtype=object)), (array([3.1007346 , 1.03562481, 2.68095992, 1.06580985]), array([-3145605277966910.0, -8.442881003810886e+16, -4866615624988564.0,\n",
            "       -7.745666937882606e+16], dtype=object)), (array([3.94634118, 1.02522408, 4.99949532, 1.0743266 ]), array([-8222734191992391.0, -4.6896858137070483e+17, -4044097720425106.0,\n",
            "       -4.0755962373398426e+17], dtype=object)), (array([4.03289097, 1.4895555 , 3.47512281, 1.04914311]), array([-5045773151672811.0, -1.001398864044294e+17, -7886180149255073.0,\n",
            "       -2.8659787147453517e+17], dtype=object)), (array([3.84063641, 1.5541427 , 5.26656632, 1.02203841]), array([-7314045026632695.0, -1.103810540743885e+17, -2836511452317130.5,\n",
            "       -3.88119582894901e+17], dtype=object)), (array([3.65803872, 1.66997345, 2.55631249, 1.01691059]), array([-2361243340129086.0, -2.481743761092016e+16, -6919007732143217.0,\n",
            "       -1.0991003202462555e+17], dtype=object)), (array([4.04876262, 1.08070277, 2.78367562, 1.24000347]), array([-2905086319835026.5, -1.527591356026826e+17, -8938612432529879.0,\n",
            "       -1.0112470880521782e+17], dtype=object)), (array([4.14984538, 1.1181892 , 5.73475978, 1.02613881]), array([-1.1258414034939272e+16, -5.754758260136182e+17,\n",
            "       -4266063041455820.0, -7.446541679654607e+17], dtype=object)), (array([3.72513858, 2.04557767, 2.81731695, 1.0318311 ]), array([-1737768137701000.8, -1.0494728495423322e+16, -4017094114181801.0,\n",
            "       -8.176986624515366e+16], dtype=object)), (array([4.06837487, 1.30652203, 6.06984459, 1.03591338]), array([-9791204775369172.0, -2.956302121198471e+17, -2948263570280053.5,\n",
            "       -5.93101054868799e+17], dtype=object)), (array([3.26329892, 1.05748803, 2.48909371, 1.02049151]), array([-3725926552972046.0, -1.0949101514146229e+17, -8396167967639452.0,\n",
            "       -1.2183629210037707e+17], dtype=object)), (array([4.12548627, 1.82713208, 4.89677867, 1.01076174]), array([-7122944472160848.0, -8.199269683272136e+16, -4259450473390741.5,\n",
            "       -4.843269273292343e+17], dtype=object)), (array([4.04395984, 1.52647878, 4.13108763, 1.02111302]), array([-6638602053580043.0, -1.2343116517854986e+17, -6227359220245784.0,\n",
            "       -4.123592035647938e+17], dtype=object)), (array([3.90734524, 1.16581891, 5.72992672, 1.03963681]), array([-9230235726543958.0, -3.4750804739313024e+17, -2926920650432631.5,\n",
            "       -4.900193188198019e+17], dtype=object))]\n"
          ]
        }
      ]
    },
    {
      "cell_type": "code",
      "source": [
        "print(search_results)"
      ],
      "metadata": {
        "colab": {
          "base_uri": "https://localhost:8080/"
        },
        "id": "KyMiLFh_qII9",
        "outputId": "74bcdcd0-f6ae-46d6-a880-06d19073cc78"
      },
      "execution_count": 57,
      "outputs": [
        {
          "output_type": "stream",
          "name": "stdout",
          "text": [
            "[(array([4.07129679, 1.06999461, 5.12884443, 1.4608008 ]), array([-2485127103557136.0, -1.3689958442495283e+17, -1243049197536691.5,\n",
            "       -5.379896296762006e+16], dtype=object)), (array([3.03623693, 1.0880015 , 5.75665322, 1.01212254]), array([-6485521026898226.0, -1.4094944507512322e+17, -951571974269462.4,\n",
            "       -1.7508645723586557e+17], dtype=object)), (array([3.84438326, 1.13921369, 4.78684341, 1.00771266]), array([-9115171437503104.0, -3.502912472813047e+17, -4721687195543037.0,\n",
            "       -5.0609812607241043e+17], dtype=object)), (array([3.97151182, 1.1556537 , 4.02458381, 1.12688564]), array([-5419365521973813.0, -2.1995451399008234e+17, -5207785597176550.0,\n",
            "       -2.3723375706271978e+17], dtype=object)), (array([3.92989749, 1.42617711, 5.38981445, 1.03891672]), array([-7817708321276711.0, -1.635696562023054e+17, -3030412056845819.0,\n",
            "       -4.231369251851768e+17], dtype=object)), (array([3.80693754, 1.02622514, 2.14786889, 1.15282906]), array([-2690409915647804.5, -1.3734655113289734e+17,\n",
            "       -1.4980365456532092e+16, -9.68837545645924e+16], dtype=object)), (array([3.76794655, 1.0836048 , 2.99519471, 1.01537917]), array([-6018409890048803.0, -2.5303651655779728e+17,\n",
            "       -1.1981764552907236e+16, -3.075468001561681e+17], dtype=object)), (array([3.9771898 , 2.03659538, 5.04565452, 1.07235981]), array([-4817293619430596.0, -3.5877139398973548e+16, -2359280274251041.0,\n",
            "       -2.4575959783087443e+17], dtype=object)), (array([3.1007346 , 1.03562481, 2.68095992, 1.06580985]), array([-3145605277966910.0, -8.442881003810886e+16, -4866615624988564.0,\n",
            "       -7.745666937882606e+16], dtype=object)), (array([3.94634118, 1.02522408, 4.99949532, 1.0743266 ]), array([-8222734191992391.0, -4.6896858137070483e+17, -4044097720425106.0,\n",
            "       -4.0755962373398426e+17], dtype=object)), (array([4.03289097, 1.4895555 , 3.47512281, 1.04914311]), array([-5045773151672811.0, -1.001398864044294e+17, -7886180149255073.0,\n",
            "       -2.8659787147453517e+17], dtype=object)), (array([3.84063641, 1.5541427 , 5.26656632, 1.02203841]), array([-7314045026632695.0, -1.103810540743885e+17, -2836511452317130.5,\n",
            "       -3.88119582894901e+17], dtype=object)), (array([3.65803872, 1.66997345, 2.55631249, 1.01691059]), array([-2361243340129086.0, -2.481743761092016e+16, -6919007732143217.0,\n",
            "       -1.0991003202462555e+17], dtype=object)), (array([4.04876262, 1.08070277, 2.78367562, 1.24000347]), array([-2905086319835026.5, -1.527591356026826e+17, -8938612432529879.0,\n",
            "       -1.0112470880521782e+17], dtype=object)), (array([4.14984538, 1.1181892 , 5.73475978, 1.02613881]), array([-1.1258414034939272e+16, -5.754758260136182e+17,\n",
            "       -4266063041455820.0, -7.446541679654607e+17], dtype=object)), (array([3.72513858, 2.04557767, 2.81731695, 1.0318311 ]), array([-1737768137701000.8, -1.0494728495423322e+16, -4017094114181801.0,\n",
            "       -8.176986624515366e+16], dtype=object)), (array([4.06837487, 1.30652203, 6.06984459, 1.03591338]), array([-9791204775369172.0, -2.956302121198471e+17, -2948263570280053.5,\n",
            "       -5.93101054868799e+17], dtype=object)), (array([3.26329892, 1.05748803, 2.48909371, 1.02049151]), array([-3725926552972046.0, -1.0949101514146229e+17, -8396167967639452.0,\n",
            "       -1.2183629210037707e+17], dtype=object)), (array([4.12548627, 1.82713208, 4.89677867, 1.01076174]), array([-7122944472160848.0, -8.199269683272136e+16, -4259450473390741.5,\n",
            "       -4.843269273292343e+17], dtype=object)), (array([4.04395984, 1.52647878, 4.13108763, 1.02111302]), array([-6638602053580043.0, -1.2343116517854986e+17, -6227359220245784.0,\n",
            "       -4.123592035647938e+17], dtype=object)), (array([3.90734524, 1.16581891, 5.72992672, 1.03963681]), array([-9230235726543958.0, -3.4750804739313024e+17, -2926920650432631.5,\n",
            "       -4.900193188198019e+17], dtype=object))]\n"
          ]
        }
      ]
    },
    {
      "cell_type": "code",
      "source": [
        "# GRAPH PLOTTING\n",
        "\n",
        "# Generic plotting method that takes in results from a\n",
        "# Simulated Annealing process and a random search and\n",
        "# plot both results on a pretty 2D-Canvas\n",
        "def plot_graph(search_results, sim_results) -> None:\n",
        "    data = [search_results, sim_results]\n",
        "    labels = ['Random Search', 'Simulated Annealing']\n",
        "\n",
        "    fig, ax = plt.subplots()\n",
        "    ax.boxplot(data, vert=True, patch_artist=True, labels=labels)\n",
        "\n",
        "    ax.set_title('Optimization Algorithm - Comparison')\n",
        "    ax.set_ylabel('Objective Function Value')\n",
        "    ax.set_xlabel('Algorithm')\n",
        "\n",
        "    plt.show()"
      ],
      "metadata": {
        "id": "CYKM8GlHVdqh"
      },
      "execution_count": 59,
      "outputs": []
    }
  ]
}